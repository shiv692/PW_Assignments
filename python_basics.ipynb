{
  "nbformat": 4,
  "nbformat_minor": 0,
  "metadata": {
    "colab": {
      "provenance": [],
      "collapsed_sections": [
        "aTK0dK2dqTbo"
      ]
    },
    "kernelspec": {
      "name": "python3",
      "display_name": "Python 3"
    },
    "language_info": {
      "name": "python"
    }
  },
  "cells": [
    {
      "cell_type": "markdown",
      "source": [
        "# Theoretical question"
      ],
      "metadata": {
        "id": "aTK0dK2dqTbo"
      }
    },
    {
      "cell_type": "markdown",
      "source": [
        "## Python Basics Assignment\n",
        "-----------------------------------------------------------------\n",
        "Q1.What is Python, and why is it popular?\n",
        "  - Python is a case-sensitive programming language used for making software, writing logic and many more.\n",
        "It is popular because of their simplicity and readability. It is easy to understand the codes.\n",
        "\n",
        "Here are some key reason for python popularreaity are:-\n",
        "- easy to learn\n",
        "- Versatile nature\n",
        "- widely used in Industry\n",
        "- Compatibility\n",
        "- lots of libraries\n",
        "-----------------------------------------------------------------\n",
        "\n",
        "Q2. What is an interpreter in Python?\n",
        "  - An interpreter is a software used to execute python codes , an interpreter helps to  translates the command that you write out into code that the computer can understand.\n",
        "-----------------------------------------------------------------\n",
        "\n",
        "Q3. What are pre-defined keywords in Python?\n",
        "  - In python there are set of codes which are already pre-defined along with there functions. Keywords are used to write logics in the programs.\n",
        "\n",
        "Some pre-defined keywords are:-\n",
        "- If\n",
        "- Else\n",
        "- While\n",
        "- For\n",
        "- Break\n",
        "- continue\n",
        "-----------------------------------------------------------------\n",
        "\n",
        "Q4. Can keywords be used as variable names?\n",
        "- No, keywords cannot be used as variable names, because they have their pre-defined functions for writing logics in codes.\n",
        "-----------------------------------------------------------------\n",
        "\n",
        "Q5. What is mutability in Python?\n",
        "- In python the term mutability refers to “the ability to modify and change its value even after it is created.”\n",
        "-----------------------------------------------------------------\n",
        "\n",
        "Q6. Why are lists mutable, but tuples are immutable?\n",
        "- In lists their are no set of rules which means we can change their values without changing their identities. While, in tuples there is different thing If you will try to change their values then there identity will get affected.\n",
        "-----------------------------------------------------------------\n",
        "\n",
        "Q7. What is the difference between “==” and “is” operators in Python?\n",
        "- The “==” operator is used to compare the value of the variable.\n",
        " \t\tExample:\n",
        "\t\t\tname = \"vijay\"\n",
        "      if name==\"vijay\":\n",
        "  \t\t\t\tprint(\"name is present\")\n",
        "\t\t\telse:\n",
        "\t\t\t\t  print(\"name is not present\")\n",
        "\n",
        "- The “is” operator is use to compare the memory locations of two objects. It returns True if the two objects have the same location , and False otherwise.\n",
        "\t\tExample:\n",
        "      a = [1,2,3]\n",
        "      b = [1,2,3]\n",
        "      c=a\n",
        "      print(a is b)\n",
        "      print(a is c)\n",
        "\n",
        "-----------------------------------------------------------------\n",
        "\n",
        "Q8. What are logical operators in Python?\n",
        "- logical operators are used to combine multiple conditions and evaluate them as a single boolean expression.\n",
        "\n",
        "\n",
        "There are three types of logical operators in Python:-\n",
        "- and\n",
        "- or\n",
        "- not\n",
        "-----------------------------------------------------------------\n",
        "\n",
        "Q9.What is type casting in Python?\n",
        "- The process of changing the data type of a value or object\n",
        "It is used to correct the mismatch of data type in the value or object.\n",
        "-----------------------------------------------------------------\n",
        "\n",
        "Q10. What is the difference between implicit and explicit type casting?\n",
        "- Implicit type conversion is performed by a Python interpreter only. While, Explicit type conversion is performed by the user by explicitly using type conversion functions in the program code.It is also known as typecasting.\n",
        "-----------------------------------------------------------------\n",
        "\n",
        "Q11. What is the purpose of conditional statements in Python?\n",
        "- A conditional statement as the name suggests itself, is used to handle conditions in your program. Like, in real life if one condition is not fulfilled, you will do something else. Similarly it goes to the programming language also if one condition is not TRUE the cod will execute to other parts of the condition.\n",
        "\n",
        "Example:-\n",
        "\n",
        "\t\t\tage = 15\n",
        "      if age >= 18:\n",
        "  \t\t\tprint(\"You will be served alcohal\")\n",
        "      else:\n",
        "   \t\t\t print(\"get out of the bar\")\n",
        "-----------------------------------------------------------------\n",
        "\n",
        "Q12. How does the elif statement work?\n",
        "- In conditional statements the elif word stands for “else if” , it is use to check multiple condition. Like ,  if the first condition is false, it moves on to the next “elif” statement to check if that condition is true.\n",
        "\n",
        "Example:-\n",
        "\n",
        "    age = 80\n",
        "    if age < 18:\n",
        "        print(\"You are minority\")\n",
        "    elif 18<age<=65:\n",
        "        print(\"Yo are adult\")\n",
        "    else:\n",
        "         print(\"You are senior citizen\")\n",
        "-----------------------------------------------------------------\n",
        "\n",
        "Q13.  What is the difference between for and while loops?\n",
        "- A “for” loop is used for iterating over a sequence. While , with the while loop we can execute a set of statements as long as a condition is true.\n",
        "-----------------------------------------------------------------\n",
        "\n",
        "Q14.  Describe a scenario where a while loop is more suitable than a for loop?\n",
        "- Use of \"for\" loop when you know the loop will be executed for short or 'n' no times. Use of \"while\" loop for reading a file which are mentioned in a variable. Use a while loop when asking for user input.\n",
        "\n",
        "\n",
        "\n",
        "\n",
        "\n",
        "\n"
      ],
      "metadata": {
        "id": "Xj3ZcTdx4G_J"
      }
    },
    {
      "cell_type": "markdown",
      "source": [
        "# Practical Questions\n",
        "\n",
        "\n",
        "\n",
        "\n",
        "\n",
        "\n"
      ],
      "metadata": {
        "id": "ae8hc5kjqClV"
      }
    },
    {
      "cell_type": "code",
      "source": [
        "#Practical question\n",
        "'''\n",
        "Q1.  Write a Python program to print \"Hello, World!.\n",
        "\n",
        "'''\n",
        "'''\n",
        "Answere:-1\n",
        "'''\n",
        "print(\"Hello, World!\")\n",
        "\n"
      ],
      "metadata": {
        "colab": {
          "base_uri": "https://localhost:8080/"
        },
        "id": "xYJ7B1_djKOn",
        "outputId": "24978d3a-0755-4ad6-bac7-50c1b0489c9c"
      },
      "execution_count": null,
      "outputs": [
        {
          "output_type": "stream",
          "name": "stdout",
          "text": [
            "Hello, World!\n"
          ]
        }
      ]
    },
    {
      "cell_type": "code",
      "source": [
        "#Practical question\n",
        "'''\n",
        "Q2. Write a Python program that displays your name and age.\n",
        "\n",
        "'''\n",
        "'''\n",
        "Answere:-2\n",
        "'''\n",
        "name = \"AVINESH MASIH\"\n",
        "age = 21\n",
        "print(\"My name is:\", name)\n",
        "print(\"My age is:\", age)\n"
      ],
      "metadata": {
        "colab": {
          "base_uri": "https://localhost:8080/"
        },
        "id": "TKnW4GBQjLie",
        "outputId": "08de0e0d-7c3f-4b89-e881-006e307f20b1"
      },
      "execution_count": null,
      "outputs": [
        {
          "output_type": "stream",
          "name": "stdout",
          "text": [
            "My name is: AVINESH MASIH\n",
            "My age is: 21\n"
          ]
        }
      ]
    },
    {
      "cell_type": "code",
      "source": [
        "#Practical question\n",
        "'''\n",
        "Q3. Write code to print all the pre-defined keywords in Python using the keyword library.\n",
        "\n",
        "'''\n",
        "'''\n",
        "Answere:-3\n",
        "\n",
        "There are two methods to find the list of all the predefined keywords.\n",
        "'''\n",
        "#this a method to list without libarary.\n",
        "help('keywords')\n",
        "\n",
        "#this is a method to list using python library.\n",
        "import keyword\n",
        "print(keyword.kwlist, \"\")"
      ],
      "metadata": {
        "colab": {
          "base_uri": "https://localhost:8080/"
        },
        "id": "AmgpBu2zj23R",
        "outputId": "d5469293-c45c-420c-e941-e4048813d1d6"
      },
      "execution_count": null,
      "outputs": [
        {
          "output_type": "stream",
          "name": "stdout",
          "text": [
            "\n",
            "Here is a list of the Python keywords.  Enter any keyword to get more help.\n",
            "\n",
            "False               class               from                or\n",
            "None                continue            global              pass\n",
            "True                def                 if                  raise\n",
            "and                 del                 import              return\n",
            "as                  elif                in                  try\n",
            "assert              else                is                  while\n",
            "async               except              lambda              with\n",
            "await               finally             nonlocal            yield\n",
            "break               for                 not                 \n",
            "\n",
            "['False', 'None', 'True', 'and', 'as', 'assert', 'async', 'await', 'break', 'class', 'continue', 'def', 'del', 'elif', 'else', 'except', 'finally', 'for', 'from', 'global', 'if', 'import', 'in', 'is', 'lambda', 'nonlocal', 'not', 'or', 'pass', 'raise', 'return', 'try', 'while', 'with', 'yield'] \n"
          ]
        }
      ]
    },
    {
      "cell_type": "code",
      "source": [
        "#Practical question\n",
        "'''\n",
        "Q4. Write a program that checks if a given word is a Python keyword.\n",
        "'''\n",
        "'''\n",
        "Answere:-4\n",
        "'''\n",
        "import keyword\n",
        "word = input(\"Enter your word \")\n",
        "if keyword.iskeyword(word):\n",
        "  print(word, \"is a python keyword\")\n",
        "else:\n",
        "  print(word, \"is not a python keyword\")\n"
      ],
      "metadata": {
        "colab": {
          "base_uri": "https://localhost:8080/"
        },
        "id": "h4DdZVInkxY6",
        "outputId": "0975864c-6ecb-4385-d506-960b1bcff7e6"
      },
      "execution_count": null,
      "outputs": [
        {
          "output_type": "stream",
          "name": "stdout",
          "text": [
            "Enter your word for\n",
            "for is a python keyword\n"
          ]
        }
      ]
    },
    {
      "cell_type": "code",
      "source": [
        "#Practical question\n",
        "'''\n",
        "Q5.  Create a list and tuple in Python, and demonstrate how attempting to change an element works differently\n",
        "for each.\n",
        "'''\n",
        "'''\n",
        "Answere:-5\n",
        "'''\n",
        "#this a attempt to change the element of list\n",
        "list = [10, 20, 30]\n",
        "print(\"This is a original list: \" ,list)\n",
        "list[2] = 25\n",
        "print(\"This is a changed list: \" ,list)\n",
        "\n",
        "print(\" \") #using for blank space\n",
        "\n",
        "#this a attempt to change the element of tuple\n",
        "my_tuple = (10, 20, 30)\n",
        "print(\"This is a original tuple: \" ,my_tuple)\n",
        "new_tuple = my_tuple[:1] + (99,) + my_tuple[2:]\n",
        "print(\"This is a changed tuple: \" ,new_tuple)\n"
      ],
      "metadata": {
        "colab": {
          "base_uri": "https://localhost:8080/"
        },
        "id": "oz2eCWakp2_A",
        "outputId": "83669e64-d20b-470c-9f96-b0b66fa73d43"
      },
      "execution_count": null,
      "outputs": [
        {
          "output_type": "stream",
          "name": "stdout",
          "text": [
            "This is a original list:  [10, 20, 30]\n",
            "This is a changed list:  [10, 20, 25]\n",
            " \n",
            "This is a original tuple:  (10, 20, 30)\n",
            "This is a changed tuple:  (10, 99, 30)\n"
          ]
        }
      ]
    },
    {
      "cell_type": "code",
      "source": [
        "#Practical question\n",
        "'''\n",
        "Q6. Write a function to demonstrate the behavior of mutable and immutable arguments.\n",
        "'''\n",
        "'''\n",
        "Answere:-6\n",
        "'''\n",
        "#mutable argument\n",
        "'''\n",
        "In python the term mutability refers to \"the ability to modify and change its value\n",
        "even after it is created.\"\n",
        "'''\n",
        "list_count = [10 , 20 , 33.5 , \"AVINESH\"]\n",
        "print(\"This is the original list\", list_count)\n",
        "#we can change multiple values in the list.\n",
        "list_count[0] = 99\n",
        "list_count[3] = \"MASIH\"\n",
        "print(\"This is the changed list\", list_count)\n",
        "print(\" \")\n",
        "#immutable argument\n",
        "'''\n",
        "In python the immutable are of built-in data type and it cannot be modified after it is created.\n",
        "'''\n",
        "print(\"-----------------------------------------------------------------\")\n",
        "print(\"tuple1 = (0, 11, 20, 55     ignore these parts\")\n",
        "print(\"tuple1[0] = 4               i'm using print command so that \")\n",
        "print(\"tuple1                      code can be executed without error\")\n",
        "print(\"-----------------------------------------------------------------\")\n",
        "\n",
        "#it will show error because tuples can't be modified\n",
        "#so that's why i have used print command to prevent error\n",
        "#because they are immutable.\n",
        "print(\" \")\n",
        "\n",
        "#if you want to change a tuple you need to create a new one\n",
        "#example:-\n",
        "\n",
        "tuple1 = (0, 11, 20, 55)\n",
        "print(\"The old tuple is\", tuple1)\n",
        "new_tuple1 = (4,) + tuple1[1:]\n",
        "print(\"The new tuple is\", new_tuple1)"
      ],
      "metadata": {
        "id": "vn4FjNoU-q7U",
        "colab": {
          "base_uri": "https://localhost:8080/"
        },
        "outputId": "128b13b7-e7c0-44b2-9bb8-0ee059f7e2b7"
      },
      "execution_count": null,
      "outputs": [
        {
          "output_type": "stream",
          "name": "stdout",
          "text": [
            "This is the original list [10, 20, 33.5, 'AVINESH']\n",
            "This is the changed list [99, 20, 33.5, 'MASIH']\n",
            " \n",
            "-----------------------------------------------------------------\n",
            "tuple1 = (0, 11, 20, 55     ignore these parts\n",
            "tuple1[0] = 4               i'm using print command so that \n",
            "tuple1                      code can be executed without error\n",
            "-----------------------------------------------------------------\n",
            " \n",
            "The old tuple is (0, 11, 20, 55)\n",
            "The new tuple is (4, 11, 20, 55)\n"
          ]
        }
      ]
    },
    {
      "cell_type": "code",
      "source": [
        "'''Q7. is repeated ''' #Q6 and Q7 is same"
      ],
      "metadata": {
        "id": "lQUhFSMWGjg8"
      },
      "execution_count": null,
      "outputs": []
    },
    {
      "cell_type": "code",
      "source": [
        "#Practical question\n",
        "'''\n",
        "Q8. Write a program to demonstrate the use of logical operators.\n",
        "'''\n",
        "'''\n",
        "Answere:-8\n",
        "'''\n",
        "# or operator\n",
        "a = 10\n",
        "b = 20\n",
        "c = 0\n",
        "if a < 0 or b > 0:\n",
        "    print(\"b is greater than a \")\n",
        "else:\n",
        "    print(\"No number is greater than 0\")\n",
        "if b > 0 or c > 0:\n",
        "    print(\"Either of the number is greater than 0\")\n",
        "else:\n",
        "    print(\"No number is greater than 0\")\n",
        "\n",
        "print(\" \")\n",
        "# and operator\n",
        "a = 10\n",
        "b = 10\n",
        "c = -10\n",
        "if a > 0 and b > 0:\n",
        "    print(\"The numbers are greater than 0\")\n",
        "if a > 0 and b > 0 and c > 0:\n",
        "    print(\"The numbers are greater than 0\")\n",
        "else:\n",
        "    print(\"Atleast one number is not greater than 0\")\n"
      ],
      "metadata": {
        "colab": {
          "base_uri": "https://localhost:8080/"
        },
        "id": "JLka2hmWdAAQ",
        "outputId": "2f75e0f1-39da-4305-9413-751485e00544"
      },
      "execution_count": null,
      "outputs": [
        {
          "output_type": "stream",
          "name": "stdout",
          "text": [
            "b is greater than a \n",
            "Either of the number is greater than 0\n",
            " \n",
            "The numbers are greater than 0\n",
            "Atleast one number is not greater than 0\n"
          ]
        }
      ]
    },
    {
      "cell_type": "code",
      "source": [
        "#Practical question\n",
        "'''\n",
        "Q9. Write a Python program to convert user input from string to integer, float, and boolean types.\n",
        "'''\n",
        "'''\n",
        "Answere:-9\n",
        "'''\n",
        "#converting sting to integer type\n",
        "a = input(\"Enter a string:\")\n",
        "int_val= int(a)\n",
        "print(int_val)\n",
        "print(type(int_val))\n",
        "\n",
        "\n",
        "print(\" \")\n",
        "#converting string to boolean type\n",
        "c = input(\"Enter a string:\")\n",
        "bool_val= bool(c)\n",
        "print(bool_val)\n",
        "print(type(bool_val))\n",
        "\n",
        "\n",
        "print(\" \")\n",
        "#converting string to float type\n",
        "b = input('Enter a string:')\n",
        "d = [float(b)]1\n",
        "print(type(d))\n",
        "print('Float Value =', d)\n"
      ],
      "metadata": {
        "colab": {
          "base_uri": "https://localhost:8080/"
        },
        "id": "b3Mq-d4ZG1yk",
        "outputId": "bef353da-c7f5-4e0f-8b56-29909d302cf1"
      },
      "execution_count": null,
      "outputs": [
        {
          "output_type": "stream",
          "name": "stdout",
          "text": [
            "Enter a string:12\n",
            "12\n",
            "<class 'int'>\n",
            " \n",
            "Enter a string:15\n",
            "True\n",
            "<class 'bool'>\n",
            " \n",
            "Enter a string:1\n",
            "<class 'list'>\n",
            "Float Value = [1.0]\n"
          ]
        }
      ]
    },
    {
      "cell_type": "code",
      "source": [
        "#Practical question\n",
        "'''\n",
        "Q10. Write code to demonstrate type casting with list elements.\n",
        "'''\n",
        "'''\n",
        "Answere:-10\n",
        "'''\n",
        "#type casting into float with list elements.\n",
        "a = (10 , 20 , 30 , 40 , 50)\n",
        "d = [float(x) for x in a]\n",
        "print(type(d))\n",
        "print('Float Value =', d)\n",
        "\n",
        "print(\" \")\n",
        "#adding float string and interger with the help of type casting\n",
        "a = int(10)\n",
        "b = int(20.2)\n",
        "c = int(\"30\")\n",
        "print (a + b + c)"
      ],
      "metadata": {
        "colab": {
          "base_uri": "https://localhost:8080/"
        },
        "id": "-iaFyUkYPCeq",
        "outputId": "750311fd-1350-46ec-c9fa-5a88718837ee"
      },
      "execution_count": null,
      "outputs": [
        {
          "output_type": "stream",
          "name": "stdout",
          "text": [
            "<class 'list'>\n",
            "Float Value = [10.0, 20.0, 30.0, 40.0, 50.0]\n",
            " \n",
            "60\n"
          ]
        }
      ]
    },
    {
      "cell_type": "code",
      "source": [
        "#Practical question\n",
        "'''\n",
        "Q11.  Write a program that checks if a number is positive, negative, or zero.\n",
        "'''\n",
        "'''\n",
        "Answere:-11\n",
        "'''\n",
        "a = float(input(\"Enter a number: \"))\n",
        "if a > 0:\n",
        "  print(\"The number is positive\")\n",
        "elif a == 0:\n",
        "  print(\"The number is zero\")\n",
        "else:\n",
        "  print(\"The number is negative\")"
      ],
      "metadata": {
        "colab": {
          "base_uri": "https://localhost:8080/"
        },
        "id": "jmPi-9ENPC4w",
        "outputId": "c2a85c7b-f2c3-4b49-fcfb-fff971292274"
      },
      "execution_count": null,
      "outputs": [
        {
          "output_type": "stream",
          "name": "stdout",
          "text": [
            "Enter a number: 0\n",
            "The number is zero\n"
          ]
        }
      ]
    },
    {
      "cell_type": "code",
      "source": [
        "#Practical question\n",
        "'''\n",
        "Q12. Write a for loop to print numbers from 1 to 100.\n",
        "'''\n",
        "'''\n",
        "Answere:-12\n",
        "'''\n",
        "for i in range (0,11):\n",
        "  print(i)\n"
      ],
      "metadata": {
        "id": "cJk1OxYSKJco",
        "colab": {
          "base_uri": "https://localhost:8080/"
        },
        "outputId": "bd09d1b1-531a-4673-8361-a5df31f0e5a4"
      },
      "execution_count": null,
      "outputs": [
        {
          "output_type": "stream",
          "name": "stdout",
          "text": [
            "0\n",
            "1\n",
            "2\n",
            "3\n",
            "4\n",
            "5\n",
            "6\n",
            "7\n",
            "8\n",
            "9\n",
            "10\n"
          ]
        }
      ]
    },
    {
      "cell_type": "code",
      "source": [
        "#Practical question\n",
        "'''\n",
        "Q13. Write a Python program to find the sum of all even numbers between 1 and 500.\n",
        "'''\n",
        "'''\n",
        "Answere:-13\n",
        "'''\n",
        "a=0\n",
        "for number in range(1,501):\n",
        "  if number % 2 == 0:\n",
        "    a += number\n",
        "print(\"The sum of al even numbers between 1 and 500 is:\",a)"
      ],
      "metadata": {
        "colab": {
          "base_uri": "https://localhost:8080/"
        },
        "id": "DqaZCCpyiIao",
        "outputId": "e050042a-9c4a-49df-d4ae-c6481643d5ee"
      },
      "execution_count": null,
      "outputs": [
        {
          "output_type": "stream",
          "name": "stdout",
          "text": [
            "The sum of al even numbers between 1 and 500 is: 62750\n"
          ]
        }
      ]
    },
    {
      "cell_type": "code",
      "source": [
        "#Practical question\n",
        "'''\n",
        "Q14. Write a program to reverse a string using a while loop.\n",
        "'''\n",
        "'''\n",
        "Answere:-14\n",
        "'''\n",
        "\n",
        "str = \"Pwskills\"\n",
        "print (\"The original string  is : \",str)\n",
        "rev_String = \"\"\n",
        "count = len(str)\n",
        "while count > 0:\n",
        "    rev_String += str[ count - 1 ]\n",
        "    count = count - 1\n",
        "print (\"The reversed string using a while loop is : \",rev_String)"
      ],
      "metadata": {
        "colab": {
          "base_uri": "https://localhost:8080/"
        },
        "id": "BQvERMJnMEKc",
        "outputId": "e1440232-98d3-4232-bc8a-6e8dd85f1f8e"
      },
      "execution_count": null,
      "outputs": [
        {
          "output_type": "stream",
          "name": "stdout",
          "text": [
            "The original string  is :  Pwskills\n",
            "The reversed string using a while loop is :  sllikswP\n"
          ]
        }
      ]
    },
    {
      "cell_type": "code",
      "source": [
        "#Practical question\n",
        "'''\n",
        "Q15. Write a Python program to calculate the factorial of a number provided by the user using a while loop.\n",
        "'''\n",
        "'''\n",
        "Answere:-15\n",
        "'''\n",
        "a = int(input(\"Enter any number: \"))\n",
        "b = 1\n",
        "while a >= 1:\n",
        "    b *= a\n",
        "    a -= 1\n",
        "\n",
        "# print output\n",
        "print(\"Factorial is\", b)"
      ],
      "metadata": {
        "colab": {
          "base_uri": "https://localhost:8080/"
        },
        "id": "X8v1-ySoM90X",
        "outputId": "318e39b4-4bc2-4043-9bac-fa067b7c0023"
      },
      "execution_count": null,
      "outputs": [
        {
          "output_type": "stream",
          "name": "stdout",
          "text": [
            "Enter any number: 4\n",
            "Factorial is 24\n"
          ]
        }
      ]
    }
  ]
}