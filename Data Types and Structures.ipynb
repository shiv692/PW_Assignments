{
  "cells": [
    {
      "cell_type": "markdown",
      "metadata": {
        "id": "cLLWIS96hcQ3"
      },
      "source": [
        "# DATA TYPES AND STRUCTURES ASSIGNMENT "
      ]
    },
    {
      "cell_type": "markdown",
      "metadata": {
        "id": "zKkoff5shptP"
      },
      "source": [
        "\n",
        "\n",
        "---\n",
        "\n"
      ]
    },
    {
      "cell_type": "markdown",
      "metadata": {
        "id": "q3XkXogBhq3y"
      },
      "source": [
        "Q1. What are data structures, and why are they important?\n",
        "  - Data structures are special ways to store and organize data in a computer so that we can use it easily and quickly. Just like we arrange books in a library by subject or author, data structures help us arrange data in a meaningful way. For example, we use lists to keep a group of items, dictionaries to store information in pairs like names and phone numbers, tuples when we don’t want the data to change and sets when we want only unique values. They are important because they help our programs run faster, use memory better and solve problems more easily. In simple words, data structures are the tools that help us handle and work with data smartly in Python and other programming languages."
      ]
    },
    {
      "cell_type": "markdown",
      "metadata": {
        "id": "Uq87t8auiANT"
      },
      "source": [
        "Q2.  Explain the difference between mutable and immutable data types with examples.\n",
        "  - In Python, mutable data types are those whose values can be changed after they are created. For example, lists are mutable — you can add, remove or change elements in a list. Suppose you have my_list = [1, 2, 3], you can do my_list[0] = 10, and now the list becomes [10, 2, 3]. On the other hand, immutable data types are those that cannot be changed once they are created. For example, strings and tuples are immutable. If you have my_str = \"hello\", you can’t change just one letter in it — you have to create a whole new string instead. Similarly, you can't change the values inside a tuple. This difference is important to understand because it affects how data behaves inside programs, especially when we pass data to functions or store it in collections."
      ]
    },
    {
      "cell_type": "markdown",
      "metadata": {
        "id": "OtYVqzDhiQHT"
      },
      "source": [
        "Q3. What are the main differences between lists and tuples in Python?\n",
        "  - In Python, the main difference between lists and tuples is that lists are mutable (changeable), while tuples are immutable (unchangeable). This means once you create a list, you can add, remove or change its elements. For example, in a list like my_list = [1, 2, 3], you can do my_list.append(4) and it becomes [1, 2, 3, 4]. But in a tuple like my_tuple = (1, 2, 3), you cannot add or remove items — the data stays fixed. Also, lists use square brackets [], while tuples use round brackets (). Because tuples are unchangeable, they are slightly faster and used when the data should not be modified. Lists are used more often when we need flexibility."
      ]
    },
    {
      "cell_type": "markdown",
      "metadata": {
        "id": "FBm-oK7PibsW"
      },
      "source": [
        "Q4. Describe how dictionaries store data.\n",
        "  - In Python, dictionaries store data in a special way using key-value pairs. This means every piece of data has a key (like a name or label) and a value (the actual data). Think of it like a real dictionary, where the word is the key and its meaning is the value. Keys in a dictionary must be unique and cannot be changed (they must be immutable), but values can be anything — numbers, strings, lists, or even other dictionaries. Dictionaries are very useful when we want to organize and quickly access data using labels instead of just numbers like in lists.\n"
      ]
    },
    {
      "cell_type": "markdown",
      "metadata": {
        "id": "SfSIWhyniztN"
      },
      "source": [
        "Q5. Why might you use a set instead of a list in Python?\n",
        "  - We might use a set instead of a list when we want to store unique items only and don’t care about the order of elements. Sets automatically remove any duplicate values, which makes them useful when we want to filter out repeated data. Also, sets are faster than lists when it comes to checking if an item exists in the collection. However, unlike lists, sets don’t keep the order of items and don’t allow indexing. So, if your main goal is to store unique data and perform quick lookups, a set is the better choice."
      ]
    },
    {
      "cell_type": "markdown",
      "metadata": {
        "id": "avZbc81bjBQh"
      },
      "source": [
        "Q6. What is a string in Python, and how is it different from a list?\n",
        "  - In Python, a string is a sequence of characters like letters, numbers, or symbols, enclosed in quotes (single or double). For example, \"hello\" is a string made of five characters. A list, on the other hand, is a collection that can hold different types of data like numbers, strings, or even other lists. The main difference is that strings are immutable, meaning once created, they cannot be changed — you can’t modify a specific character directly. But lists are mutable, so you can change, add, or remove elements anytime. Also, strings always contain characters, while lists can hold anything — even a mix of data types.\n",
        "\n",
        "  Example:\n",
        "String → \"apple\"\n",
        "List → ['a', 'p', 'p', 'l', 'e'] or [1, 'apple', True]"
      ]
    },
    {
      "cell_type": "markdown",
      "metadata": {
        "id": "TIv4798CjJFH"
      },
      "source": [
        "Q7. How do tuples ensure data integrity in Python?\n",
        "  - Tuples in Python are immutable, which means once you create a tuple, you cannot change, add, or remove any of its elements. This feature helps protect the data from being accidentally changed while the program is running. Because of this, tuples are useful when you want to store fixed data that should stay the same throughout your code — like days of the week or coordinates in a map. By keeping the data locked, tuples ensure data integrity, meaning the values stay safe and unchanged.\n",
        "  -Example,\n",
        "    - days = ('Monday', 'Tuesday', 'Wednesday')\n",
        "     You cannot do: days[0] = 'Sunday'  → This will give an error"
      ]
    },
    {
      "cell_type": "markdown",
      "metadata": {
        "id": "l1xgPn0vqGeZ"
      },
      "source": [
        "Q8. What is a hash table, and how does it relate to dictionaries in Python?\n",
        "  - A hash table is a special way of storing data so that we can find it very quickly. It works like a smart locker system each item is stored in a specific box (location) using a unique number called a hash. In Python, dictionaries use hash tables to store data as key-value pairs. The key is passed through a hash function, which decides exactly where the value will be stored. This makes it super fast to look up, add, or remove values using the keys. So when you use a dictionary in Python, you're actually using a powerful hash table behind the scenes.\n",
        "  - Example,\n",
        "    - student = {'name': 'Aarav', 'age': 16}\n",
        " The key 'name' is hashed to find where the value 'Aarav' is stored\n"
      ]
    },
    {
      "cell_type": "markdown",
      "metadata": {
        "id": "nMrWuy5nqkmG"
      },
      "source": [
        " Q9. Can lists contain different data types in Python?\n",
        "  - Yes, lists in Python can contain different data types. That’s one of the most flexible and powerful features of Python lists. Unlike some other programming languages where lists (or arrays) can only hold one type of data (like only numbers or only strings), Python allows you to mix things up.You can put integers, strings, floats, booleans, even other lists or dictionaries—all inside one single list. This makes it very easy to group related information together, even if the pieces are of different types.\n",
        "  - Example,  \n",
        "    - my_list = [23, \"hello\", 3.14, True, [1, 2, 3]]\n",
        "print(my_list)\n",
        "   -  Here, the list has: an integer (23), a string (\"hello\"), a float (3.14), a boolean (True), another list ([1, 2, 3])\n",
        "\n",
        " This feature gives Python a lot of flexibility, especially when you’re handling real-world data where things aren’t always of the same type."
      ]
    },
    {
      "cell_type": "markdown",
      "metadata": {
        "id": "prHHFZWlrEAr"
      },
      "source": [
        "Q10.  Explain why strings are immutable in Python?\n",
        "  - Strings are immutable in Python, which means once you create a string, you cannot change any of its characters directly. If you try to modify a character in a string, Python will give you an error. This happens because strings are designed to be fixed and secure. When Python marks strings as immutable, it helps the program run more safely and efficiently. For example, if two variables share the same string value, Python doesn’t need to create two copies — it can safely reuse the same one because it knows it won’t be changed. If you want to change something in a string, you have to create a new string using the original one, like by slicing or using string methods.\n",
        "  "
      ]
    },
    {
      "cell_type": "markdown",
      "metadata": {
        "id": "DIh4G1krs__o"
      },
      "source": [
        "Q11. What advantages do dictionaries offer over lists for certain tasks?\n",
        " - Dictionaries are better than lists when you need to store and access data using clear labels or names. In lists, you have to use numbers like 0, 1, 2 to get data, but in dictionaries, you can use keys like \"name\", \"age\", or \"city\" to directly access values. This makes your code easier to understand and work with, especially when the data is more complex or needs to be grouped. Dictionaries are also faster than lists when it comes to looking up values by key. This is because they use a special method called hashing. So, if you need quick access to specific data and want to keep things organized, dictionaries are a better choice than lists.\n",
        " - Example using a list:\n",
        "student = [\"Ravi\", 22, \"Delhi\"]\n",
        "To get Ravi’s age, you must remember that age is at index 1.\n",
        "- Example using a dictionary:\n",
        "student = {\"name\": \"Ravi\", \"age\": 22, \"city\": \"Delhi\"}\n",
        "Now, you can directly write student[\"age\"] to get the value 22.\n",
        "\n",
        "  This makes dictionaries more readable and better for storing data with labels.\n"
      ]
    },
    {
      "cell_type": "markdown",
      "metadata": {
        "id": "erkkCqSGuDJQ"
      },
      "source": [
        "Q12. Describe a scenario where using a tuple would be preferable over a list.\n",
        "  - Tuples are better than lists when you want to store data that should not change throughout the program. Since tuples are immutable (cannot be modified), they help protect the data from being accidentally changed. This is useful when you want to store constant values, coordinates, fixed settings or items that should remain the same during execution. Also, because they cannot be changed, tuples are slightly faster than lists in terms of performance. They can also be used as keys in dictionaries, while lists cannot.\n",
        "    - Example using a tuple:\n",
        "location = (28.6139, 77.2090)  # Latitude and longitude of Delhi\n",
        "This makes sense as a tuple because these coordinates won’t change.\n",
        "- Example using a list (less suitable here):\n",
        "location = \\[28.6139, 77.2090]\n",
        "Using a list might allow accidental changes like location\\[0] = 0, which is not ideal for fixed data.\n",
        "\n",
        "So, when your data is fixed and must stay safe from changes, a tuple is the better choice.\n"
      ]
    },
    {
      "cell_type": "markdown",
      "metadata": {
        "id": "UBekJ-K1utSR"
      },
      "source": [
        "Q13. How do sets handle duplicate values in Python?\n",
        "  - In Python, a set is a special type of data structure that automatically removes duplicate values. This means that when you add elements to a set, only the unique values are stored — any repeated values are ignored. This feature makes sets very useful when you want to filter out duplicates and only keep distinct items. Sets are unordered, so the elements don’t follow any specific order like in lists or tuples. The main benefit of using a set is that you don’t have to manually check for duplicates — Python handles it for you.\n",
        "    - Example:\n",
        "my_set = {1, 2, 2, 3, 4, 4, 5}\n",
        "After creating the set, my_set will automatically become: {1, 2, 3, 4, 5}\n",
        "As you can see, duplicate values like 2 and 4 are removed.\n",
        "\n",
        "So, sets are great when you need to make sure your data is unique."
      ]
    },
    {
      "cell_type": "markdown",
      "metadata": {
        "id": "XLyLTBa-u7Qq"
      },
      "source": [
        "Q14. How does the “in” keyword work differently for lists and dictionaries in Python?\n",
        "  - In Python, the in keyword is used to check if a value exists. But how it works depends on the data structure. In a list, the in keyword checks if a particular element exists in the list. The search goes through each item one by one (linear search). However, in a dictionary, the in keyword checks only for the keys, not the values. It quickly tells you if a specific key is present using a method called hashing, which makes it much faster than searching in a list.\n",
        "   - Example for list:\n",
        "my_list = [10, 20, 30]\n",
        "20 in my_list → returns True\n",
        "   - Example for dictionary:\n",
        "my_dict = {'name': 'Alice', 'age': 25}\n",
        "'name' in my_dict → returns True\n",
        "'Alice' in my_dict → returns False (because it's a value, not a key)\n",
        "\n",
        "So, in checks for elements in a list but checks only keys in a dictionary."
      ]
    },
    {
      "cell_type": "markdown",
      "metadata": {
        "id": "oCb7fDf5vJgs"
      },
      "source": [
        "Q15. Can you modify the elements of a tuple? Explain why or why not\n",
        "  - No, you cannot modify the elements of a tuple in Python because tuples are immutable. This means once a tuple is created, its elements cannot be changed, added, or removed. This immutability helps protect the data from accidental changes and makes tuples faster and safer to use when you want to store fixed data that should not be altered. Tuples are often used in situations where the data must remain constant throughout the program.\n",
        "      - Example:\n",
        "my_tuple = (10, 20, 30)\n",
        "Trying to change my_tuple[1] = 50 will give an error because the value inside a tuple cannot be updated."
      ]
    },
    {
      "cell_type": "markdown",
      "metadata": {
        "id": "2Wl0ordCvTcd"
      },
      "source": [
        "Q16. What is a nested dictionary, and give an example of its use case?\n",
        "  - A nested dictionary is a dictionary that contains another dictionary as its value. It helps in organizing complex data in a structured way by grouping related information under one key. This is useful when you need to store data in multiple levels — like storing information about students, employees, or products, where each entry has its own set of details. With nested dictionaries, data becomes easier to manage and access when it’s related to a common key.\n",
        "    - Example:\n",
        "students = {'student1': {'name': 'Ravi', 'age': 20}, 'student2': {'name': 'Anita', 'age': 22}}\n",
        "   - Here, each student key holds another dictionary containing the name and age of that student. You can access Ravi’s age using: students['student1']['age'] which gives 20.\n"
      ]
    },
    {
      "cell_type": "markdown",
      "metadata": {
        "id": "EnlPagF9vh81"
      },
      "source": [
        "Q17. Describe the time complexity of accessing elements in a dictionary\n",
        "  - Accessing elements in a dictionary in Python is very fast and efficient. It generally takes constant time, which is known as O(1) in time complexity terms. This means that no matter how big the dictionary is, accessing a value using a key takes almost the same amount of time. This speed is possible because dictionaries use a structure called a hash table in the background, which allows Python to quickly find where each key is stored.\n",
        "      - Example:\n",
        "person = {'name': 'Rahul', 'age': 25, 'city': 'Delhi'}\n",
        "Accessing person['age'] will directly give you 25 in constant time, without searching through all items."
      ]
    },
    {
      "cell_type": "markdown",
      "metadata": {
        "id": "h2P1UWJmvrjQ"
      },
      "source": [
        "Q18. In what situations are lists preferred over dictionaries?\n",
        "  - Lists are preferred when the order of items matters, or when we simply need to store a collection of values without needing unique keys. Lists are useful for tasks like storing a series of items such as names, numbers, or any sequence where position (index) is important. They are ideal when we want to loop through items one by one, or when the values don’t need to be labeled. Also, lists are easy to sort, slice, and modify by index, which makes them great for ordered data.\n",
        "      - Example:\n",
        "If we want to store marks of a student in 5 subjects:\n",
        "marks = [85, 78, 92, 74, 88]\n",
        "Here, a list is better because we are just tracking scores in order and don’t need labels for each subject.\n"
      ]
    },
    {
      "cell_type": "markdown",
      "metadata": {
        "id": "pw00Xp1Gv23h"
      },
      "source": [
        "Q19. Why are dictionaries considered unordered, and how does that affect data retrieval?\n",
        " - Dictionaries in Python are considered unordered because they store data using key-value pairs, and the order in which we insert the items is not guaranteed to be maintained (at least in older versions of Python). Unlike lists, where each item has a fixed position or index, dictionaries focus on mapping keys to values, not on maintaining a sequence. This means we cannot rely on the items appearing in the same order every time. However, since Python 3.7+, dictionaries do maintain insertion order, but we still don’t access values by position — we use their keys. This affects data retrieval because instead of accessing by index (like in a list), we retrieve values by their unique keys.\n",
        "    - Example:\n",
        "To get a person’s age from a dictionary:\n",
        "person = {'name': 'Ravi', 'age': 25, 'city': 'Mumbai'}\n",
        "We use person['age'] to get 25, not based on position but using the key 'age'."
      ]
    },
    {
      "cell_type": "markdown",
      "metadata": {
        "id": "vZNht-dlwJtf"
      },
      "source": [
        "Q20. Explain the difference between a list and a dictionary in terms of data retrieval.\n",
        "- The main difference between a list and a dictionary in Python is how we access their elements. In a list, we retrieve data using numeric index positions. Each item in the list has a specific position starting from index 0. So, to get a value, we must know its exact position. In contrast, dictionaries use keys instead of indexes. Each value is connected to a unique key, and we access data by using these keys. This makes dictionaries faster and more efficient when we know the key but not the position. Lists are better when order matters, and dictionaries are better when we need quick lookups using a name or label.\n",
        "     "
      ]
    },
    {
      "cell_type": "markdown",
      "metadata": {
        "id": "x6wfG1gfwjem"
      },
      "source": [
        "\n",
        "\n",
        "---\n",
        "\n"
      ]
    },
    {
      "cell_type": "code",
      "execution_count": 2,
      "metadata": {
        "colab": {
          "base_uri": "https://localhost:8080/"
        },
        "id": "eizzAiZTxLvD",
        "outputId": "416249a0-5951-4cce-e2e5-ce5173a153cc"
      },
      "outputs": [
        {
          "name": "stdout",
          "output_type": "stream",
          "text": [
            "My name is: Pranav Mehra\n"
          ]
        }
      ],
      "source": [
        "# Q1. Write a code to create a string with your name and print it\n",
        "\n",
        "my_name = \"Pranav Mehra\"  # This is the string\n",
        "print(\"My name is:\", my_name)\n"
      ]
    },
    {
      "cell_type": "code",
      "execution_count": 3,
      "metadata": {
        "colab": {
          "base_uri": "https://localhost:8080/"
        },
        "id": "dLXwz5uoxR_V",
        "outputId": "5b41dc7e-d147-4f10-bda6-1d2efc92a745"
      },
      "outputs": [
        {
          "name": "stdout",
          "output_type": "stream",
          "text": [
            "Length of the string is: 11\n"
          ]
        }
      ],
      "source": [
        "# Q2. Write a code to find the length of the string \"Hello World\"\n",
        "\n",
        "my_string = \"Hello World\"\n",
        "length = len(my_string)\n",
        "print(\"Length of the string is:\", length)\n"
      ]
    },
    {
      "cell_type": "code",
      "execution_count": 4,
      "metadata": {
        "colab": {
          "base_uri": "https://localhost:8080/"
        },
        "id": "GXIqSuOnxZ4i",
        "outputId": "11df6ed0-3481-40fc-ba53-06572636d94f"
      },
      "outputs": [
        {
          "name": "stdout",
          "output_type": "stream",
          "text": [
            "First 3 characters are: Pyt\n"
          ]
        }
      ],
      "source": [
        "# Q3. Write a code to slice the first 3 characters from the string \"Python Programming\"\n",
        "\n",
        "text = \"Python Programming\"\n",
        "sliced_text = text[:3]\n",
        "print(\"First 3 characters are:\", sliced_text)\n"
      ]
    },
    {
      "cell_type": "code",
      "execution_count": 5,
      "metadata": {
        "colab": {
          "base_uri": "https://localhost:8080/"
        },
        "id": "GVT4pggdxlsd",
        "outputId": "32c2d4f4-301d-4140-9cca-4a8c4be5be14"
      },
      "outputs": [
        {
          "name": "stdout",
          "output_type": "stream",
          "text": [
            "Uppercase version: HELLO\n"
          ]
        }
      ],
      "source": [
        "# Q4. Write a code to convert the string \"hello\" to uppercase\n",
        "\n",
        "text = \"hello\"\n",
        "uppercase_text = text.upper()\n",
        "print(\"Uppercase version:\", uppercase_text)\n"
      ]
    },
    {
      "cell_type": "code",
      "execution_count": 6,
      "metadata": {
        "colab": {
          "base_uri": "https://localhost:8080/"
        },
        "id": "PUfJMRPzxo52",
        "outputId": "e43faacb-3b56-4b03-c1fa-a3b00aeea43b"
      },
      "outputs": [
        {
          "name": "stdout",
          "output_type": "stream",
          "text": [
            "Updated sentence: I like orange\n"
          ]
        }
      ],
      "source": [
        "# Q5. Write a code to replace the word \"apple\" with \"orange\" in the string \"I like apple\"\n",
        "\n",
        "text = \"I like apple\"\n",
        "new_text = text.replace(\"apple\", \"orange\")\n",
        "print(\"Updated sentence:\", new_text)\n"
      ]
    },
    {
      "cell_type": "code",
      "execution_count": 7,
      "metadata": {
        "colab": {
          "base_uri": "https://localhost:8080/"
        },
        "id": "PR9TBwq1x0M6",
        "outputId": "8243a3d9-3866-4e6d-83ed-7e40a415b2d2"
      },
      "outputs": [
        {
          "name": "stdout",
          "output_type": "stream",
          "text": [
            "The list is: [1, 2, 3, 4, 5]\n"
          ]
        }
      ],
      "source": [
        "# Q6. Write a code to create a list with numbers 1 to 5 and print it\n",
        "\n",
        "my_list = [1, 2, 3, 4, 5]\n",
        "print(\"The list is:\", my_list)\n"
      ]
    },
    {
      "cell_type": "code",
      "execution_count": 8,
      "metadata": {
        "colab": {
          "base_uri": "https://localhost:8080/"
        },
        "id": "jfj-DEJ8x2hz",
        "outputId": "ea541801-aa6f-4eee-8659-f18156fc55f4"
      },
      "outputs": [
        {
          "name": "stdout",
          "output_type": "stream",
          "text": [
            "Updated list: [1, 2, 3, 4, 10]\n"
          ]
        }
      ],
      "source": [
        "# Q7. Write a code to append the number 10 to the list [1, 2, 3, 4]\n",
        "\n",
        "my_list = [1, 2, 3, 4]\n",
        "my_list.append(10)\n",
        "print(\"Updated list:\", my_list)\n"
      ]
    },
    {
      "cell_type": "code",
      "execution_count": 9,
      "metadata": {
        "colab": {
          "base_uri": "https://localhost:8080/"
        },
        "id": "qzCDRkMmx8s4",
        "outputId": "759776dd-f51c-443b-e601-68976590087a"
      },
      "outputs": [
        {
          "name": "stdout",
          "output_type": "stream",
          "text": [
            "Updated list: [1, 2, 4, 5]\n"
          ]
        }
      ],
      "source": [
        "# Q8. Write a code to remove the number 3 from the list [1, 2, 3, 4, 5]\n",
        "\n",
        "my_list = [1, 2, 3, 4, 5]\n",
        "my_list.remove(3)\n",
        "print(\"Updated list:\", my_list)\n"
      ]
    },
    {
      "cell_type": "code",
      "execution_count": 10,
      "metadata": {
        "colab": {
          "base_uri": "https://localhost:8080/"
        },
        "id": "UBVzyMC8yC-Z",
        "outputId": "460f4752-2045-4eb2-dee9-64d3ec994121"
      },
      "outputs": [
        {
          "name": "stdout",
          "output_type": "stream",
          "text": [
            "Second element: b\n"
          ]
        }
      ],
      "source": [
        "# Q9. Write a code to access the second element in the list ['a', 'b', 'c', 'd']\n",
        "\n",
        "my_list = ['a', 'b', 'c', 'd']\n",
        "second_element = my_list[1]\n",
        "print(\"Second element:\", second_element)\n"
      ]
    },
    {
      "cell_type": "code",
      "execution_count": 11,
      "metadata": {
        "colab": {
          "base_uri": "https://localhost:8080/"
        },
        "id": "RR6ylmqRyJUo",
        "outputId": "4596544c-c02e-466a-f451-ab33cc541dde"
      },
      "outputs": [
        {
          "name": "stdout",
          "output_type": "stream",
          "text": [
            "Reversed list: [50, 40, 30, 20, 10]\n"
          ]
        }
      ],
      "source": [
        "# Q10. Write a code to reverse the list [10, 20, 30, 40, 50]\n",
        "\n",
        "my_list = [10, 20, 30, 40, 50]\n",
        "reversed_list = my_list[::-1]\n",
        "print(\"Reversed list:\", reversed_list)\n"
      ]
    },
    {
      "cell_type": "code",
      "execution_count": 12,
      "metadata": {
        "colab": {
          "base_uri": "https://localhost:8080/"
        },
        "id": "fB3RQIAmzgeo",
        "outputId": "4e8f0c1c-54f1-469d-bb84-898253844d4b"
      },
      "outputs": [
        {
          "name": "stdout",
          "output_type": "stream",
          "text": [
            "Tuple: (100, 200, 300)\n"
          ]
        }
      ],
      "source": [
        "# Q11. Write a code to create a tuple with the elements 100, 200, 300 and print it\n",
        "\n",
        "my_tuple = (100, 200, 300)\n",
        "print(\"Tuple:\", my_tuple)\n"
      ]
    },
    {
      "cell_type": "code",
      "execution_count": 13,
      "metadata": {
        "colab": {
          "base_uri": "https://localhost:8080/"
        },
        "id": "xtsIDLFvzlM1",
        "outputId": "e314c3d4-31f6-4830-b78f-42c659a1f233"
      },
      "outputs": [
        {
          "name": "stdout",
          "output_type": "stream",
          "text": [
            "Second-to-last element: blue\n"
          ]
        }
      ],
      "source": [
        "# Q12. Write a code to access the second-to-last element of the tuple ('red', 'green', 'blue', 'yellow')\n",
        "\n",
        "my_tuple = ('red', 'green', 'blue', 'yellow')\n",
        "second_last_element = my_tuple[-2]\n",
        "print(\"Second-to-last element:\", second_last_element)\n"
      ]
    },
    {
      "cell_type": "code",
      "execution_count": 14,
      "metadata": {
        "colab": {
          "base_uri": "https://localhost:8080/"
        },
        "id": "yDuAbQmWzqqX",
        "outputId": "b5229166-7f4b-4fd2-a732-a63fab9f2495"
      },
      "outputs": [
        {
          "name": "stdout",
          "output_type": "stream",
          "text": [
            "Minimum number in the tuple: 5\n"
          ]
        }
      ],
      "source": [
        "# Q13. Write a code to find the minimum number in the tuple (10, 20, 5, 15)\n",
        "\n",
        "numbers = (10, 20, 5, 15)\n",
        "min_number = min(numbers)\n",
        "print(\"Minimum number in the tuple:\", min_number)\n"
      ]
    },
    {
      "cell_type": "code",
      "execution_count": 15,
      "metadata": {
        "colab": {
          "base_uri": "https://localhost:8080/"
        },
        "id": "RizsZC3s0KO_",
        "outputId": "1007344c-6b68-45e0-a4a6-7543978414cb"
      },
      "outputs": [
        {
          "name": "stdout",
          "output_type": "stream",
          "text": [
            "The index of 'cat' is: 1\n"
          ]
        }
      ],
      "source": [
        "# Q14. Write a code to find the index of the element \"cat\" in the tuple ('dog', 'cat', 'rabbit')\n",
        "\n",
        "animals = ('dog', 'cat', 'rabbit')\n",
        "index_of_cat = animals.index('cat')\n",
        "print(\"The index of 'cat' is:\", index_of_cat)\n"
      ]
    },
    {
      "cell_type": "code",
      "execution_count": 16,
      "metadata": {
        "colab": {
          "base_uri": "https://localhost:8080/"
        },
        "id": "gqKUEGqg0Q8y",
        "outputId": "4223b97f-0cc3-41c2-d154-504146b204ca"
      },
      "outputs": [
        {
          "name": "stdout",
          "output_type": "stream",
          "text": [
            "Is 'kiwi' in the tuple? False\n"
          ]
        }
      ],
      "source": [
        "# Q15. Write a code to create a tuple containing three different fruits and check if \"kiwi\" is in it\n",
        "\n",
        "fruits = ('apple', 'banana', 'mango')\n",
        "is_kiwi_present = 'kiwi' in fruits\n",
        "\n",
        "print(\"Is 'kiwi' in the tuple?\", is_kiwi_present)\n"
      ]
    },
    {
      "cell_type": "code",
      "execution_count": 17,
      "metadata": {
        "colab": {
          "base_uri": "https://localhost:8080/"
        },
        "id": "5i9H8WzL0VtF",
        "outputId": "51cd0d44-930e-4bbf-888a-d36c8dd29dbe"
      },
      "outputs": [
        {
          "name": "stdout",
          "output_type": "stream",
          "text": [
            "Set elements: {'c', 'a', 'b'}\n"
          ]
        }
      ],
      "source": [
        "# Q16. Write a code to create a set with the elements 'a', 'b', 'c' and print it\n",
        "\n",
        "my_set = {'a', 'b', 'c'}\n",
        "print(\"Set elements:\", my_set)\n"
      ]
    },
    {
      "cell_type": "code",
      "execution_count": 18,
      "metadata": {
        "colab": {
          "base_uri": "https://localhost:8080/"
        },
        "id": "5a8H2KAG0XNT",
        "outputId": "25687bc1-bf5c-4061-8009-9832c4ac19e0"
      },
      "outputs": [
        {
          "name": "stdout",
          "output_type": "stream",
          "text": [
            "Set after clearing: set()\n"
          ]
        }
      ],
      "source": [
        "# Q17. Write a code to clear all elements from the set {1, 2, 3, 4, 5}\n",
        "\n",
        "my_set = {1, 2, 3, 4, 5}\n",
        "my_set.clear()\n",
        "print(\"Set after clearing:\", my_set)\n"
      ]
    },
    {
      "cell_type": "code",
      "execution_count": 19,
      "metadata": {
        "colab": {
          "base_uri": "https://localhost:8080/"
        },
        "id": "tEXEKH1T0bXp",
        "outputId": "6667fb40-2a7d-4659-9b42-37a3ff76abd0"
      },
      "outputs": [
        {
          "name": "stdout",
          "output_type": "stream",
          "text": [
            "Set after removing 4: {1, 2, 3}\n"
          ]
        }
      ],
      "source": [
        "# Q18. Write a code to remove the element 4 from the set {1, 2, 3, 4}\n",
        "\n",
        "my_set = {1, 2, 3, 4}\n",
        "my_set.remove(4)\n",
        "print(\"Set after removing 4:\", my_set)\n"
      ]
    },
    {
      "cell_type": "code",
      "execution_count": 20,
      "metadata": {
        "colab": {
          "base_uri": "https://localhost:8080/"
        },
        "id": "UkJ7YvMF0ehW",
        "outputId": "d4c60154-9abd-44f4-fcd0-fba83d2d1a76"
      },
      "outputs": [
        {
          "name": "stdout",
          "output_type": "stream",
          "text": [
            "Union of sets: {1, 2, 3, 4, 5}\n"
          ]
        }
      ],
      "source": [
        "# Q19. Write a code to find the union of two sets {1, 2, 3} and {3, 4, 5}\n",
        "\n",
        "set1 = {1, 2, 3}\n",
        "set2 = {3, 4, 5}\n",
        "\n",
        "union_set = set1.union(set2)\n",
        "print(\"Union of sets:\", union_set)\n"
      ]
    },
    {
      "cell_type": "code",
      "execution_count": 21,
      "metadata": {
        "colab": {
          "base_uri": "https://localhost:8080/"
        },
        "id": "FbtMSYJg0nf6",
        "outputId": "6d5e62da-7f52-4e17-8679-66b8ce95777b"
      },
      "outputs": [
        {
          "name": "stdout",
          "output_type": "stream",
          "text": [
            "Intersection of sets: {2, 3}\n"
          ]
        }
      ],
      "source": [
        "# Q20. Write a code to find the intersection of two sets {1, 2, 3} and {2, 3, 4}\n",
        "\n",
        "set1 = {1, 2, 3}\n",
        "set2 = {2, 3, 4}\n",
        "\n",
        "intersection_set = set1.intersection(set2)\n",
        "print(\"Intersection of sets:\", intersection_set)\n"
      ]
    },
    {
      "cell_type": "code",
      "execution_count": 22,
      "metadata": {
        "colab": {
          "base_uri": "https://localhost:8080/"
        },
        "id": "uqzhi8h10qxS",
        "outputId": "fd8965f4-e27a-48e3-fded-4ae988c7f97e"
      },
      "outputs": [
        {
          "name": "stdout",
          "output_type": "stream",
          "text": [
            "Dictionary: {'name': 'Pranav', 'age': 22, 'city': 'Chandigarh'}\n"
          ]
        }
      ],
      "source": [
        "# Q21. Write a code to create a dictionary with the keys \"name\", \"age\", and \"city\", and print it.\n",
        "\n",
        "person = {\n",
        "    \"name\": \"Pranav\",\n",
        "    \"age\": 22,\n",
        "    \"city\": \"Chandigarh\"\n",
        "}\n",
        "\n",
        "print(\"Dictionary:\", person)\n"
      ]
    },
    {
      "cell_type": "code",
      "execution_count": 23,
      "metadata": {
        "colab": {
          "base_uri": "https://localhost:8080/"
        },
        "id": "t-809m-B0wxV",
        "outputId": "9e72a85b-dfdc-4853-dc6b-cc6165aead67"
      },
      "outputs": [
        {
          "name": "stdout",
          "output_type": "stream",
          "text": [
            "Updated dictionary: {'name': 'John', 'age': 25, 'country': 'USA'}\n"
          ]
        }
      ],
      "source": [
        "# Q22. Write a code to add a new key-value pair \"country\": \"USA\"\n",
        "#      to the dictionary {'name': 'John', 'age': 25}\n",
        "\n",
        "person = {'name': 'John', 'age': 25}\n",
        "person['country'] = 'USA'\n",
        "print(\"Updated dictionary:\", person)\n"
      ]
    },
    {
      "cell_type": "code",
      "execution_count": 25,
      "metadata": {
        "colab": {
          "base_uri": "https://localhost:8080/"
        },
        "id": "MmThFc-J01ug",
        "outputId": "292d54cf-8b2b-43ae-9bf8-9fc8ef015bb3"
      },
      "outputs": [
        {
          "name": "stdout",
          "output_type": "stream",
          "text": [
            "The value of 'name' is: Alice\n"
          ]
        }
      ],
      "source": [
        "# Q23. Write a code to access the value associated with the key \"name\"\n",
        "#      in the dictionary {'name': 'Alice', 'age': 30}\n",
        "\n",
        "student = {'name': 'Alice', 'age': 30}\n",
        "name_value = student['name']\n",
        "print(\"The value of 'name' is:\", name_value)\n"
      ]
    },
    {
      "cell_type": "code",
      "execution_count": 28,
      "metadata": {
        "colab": {
          "base_uri": "https://localhost:8080/"
        },
        "id": "UcVWRgSx1I-H",
        "outputId": "3d4acf9a-325e-4bb4-e47f-fee7cabbe0b5"
      },
      "outputs": [
        {
          "name": "stdout",
          "output_type": "stream",
          "text": [
            "Updated dictionary: {'name': 'Bob', 'city': 'New York'}\n"
          ]
        }
      ],
      "source": [
        "# 24 Write a code to remove the key \"age\" from the dictionary {'name: 'Bob', 'age': 22, 'city: 'New York}.\n",
        "person = {'name': 'Bob', 'age': 22, 'city': 'New York'}\n",
        "person.pop('age')  # removes the key \"age\"\n",
        "print(\"Updated dictionary:\", person)"
      ]
    },
    {
      "cell_type": "code",
      "execution_count": 29,
      "metadata": {
        "colab": {
          "base_uri": "https://localhost:8080/"
        },
        "id": "eOCJrISn1Zd6",
        "outputId": "26a79915-b538-4ce8-cb88-3722f4a923cd"
      },
      "outputs": [
        {
          "name": "stdout",
          "output_type": "stream",
          "text": [
            "Key 'city' exists in the dictionary.\n"
          ]
        }
      ],
      "source": [
        "# 25. Write a code to check if the key \"city\" exists in the dictionary {'name': 'Alice', 'city: 'Paris'}.\n",
        "info = {'name': 'Alice', 'city': 'Paris'}\n",
        "if 'city' in info:\n",
        "    print(\"Key 'city' exists in the dictionary.\")\n",
        "else:\n",
        "    print(\"Key 'city' does not exist.\")"
      ]
    },
    {
      "cell_type": "code",
      "execution_count": 30,
      "metadata": {
        "colab": {
          "base_uri": "https://localhost:8080/"
        },
        "id": "Gmq5sgWH1n1O",
        "outputId": "dcf45f07-3ea4-4058-e76d-4687501684fb"
      },
      "outputs": [
        {
          "name": "stdout",
          "output_type": "stream",
          "text": [
            "List: [10, 20, 30]\n",
            "Tuple: ('apple', 'banana', 'cherry')\n",
            "Dictionary: {'name': 'John', 'age': 25}\n"
          ]
        }
      ],
      "source": [
        "# 26. Write a code to create a list, a tuple, and a dictionary, and print them all.\n",
        "\n",
        "my_list = [10, 20, 30]\n",
        "my_tuple = ('apple', 'banana', 'cherry')\n",
        "my_dict = {'name': 'John', 'age': 25}\n",
        "\n",
        "\n",
        "print(\"List:\", my_list)\n",
        "print(\"Tuple:\", my_tuple)\n",
        "print(\"Dictionary:\", my_dict)\n"
      ]
    },
    {
      "cell_type": "code",
      "execution_count": 32,
      "metadata": {
        "colab": {
          "base_uri": "https://localhost:8080/"
        },
        "id": "zMhQUrQ113D0",
        "outputId": "a81d358f-e56a-43ec-bab0-ab890bf6a2a9"
      },
      "outputs": [
        {
          "name": "stdout",
          "output_type": "stream",
          "text": [
            "Sorted random numbers: [13, 35, 59, 87, 92]\n"
          ]
        }
      ],
      "source": [
        "# 27. Write a code to create a list of 5 random numbers between 1 and 100, sort it in ascending order, and print the result.\n",
        "import random\n",
        "random_numbers = random.sample(range(1, 101), 5)\n",
        "random_numbers.sort()\n",
        "print(\"Sorted random numbers:\", random_numbers)"
      ]
    },
    {
      "cell_type": "code",
      "execution_count": 33,
      "metadata": {
        "colab": {
          "base_uri": "https://localhost:8080/"
        },
        "id": "MFegnCeu2K2Z",
        "outputId": "6d1fc22d-28f4-45dd-d6b2-df771e037f27"
      },
      "outputs": [
        {
          "name": "stdout",
          "output_type": "stream",
          "text": [
            "Element at third index: date\n"
          ]
        }
      ],
      "source": [
        "# Q28. Write a code to create a list with strings and print the element at the third index.\n",
        "my_list = ['apple', 'banana', 'cherry', 'date', 'elderberry']\n",
        "print(\"Element at third index:\", my_list[3])\n"
      ]
    },
    {
      "cell_type": "code",
      "execution_count": 34,
      "metadata": {
        "colab": {
          "base_uri": "https://localhost:8080/"
        },
        "id": "e06F84Pb2PmS",
        "outputId": "dc57b7a7-5159-4e9a-cfb4-83b00fe30ba3"
      },
      "outputs": [
        {
          "name": "stdout",
          "output_type": "stream",
          "text": [
            "Combined Dictionary: {'a': 1, 'b': 2, 'c': 3, 'd': 4}\n"
          ]
        }
      ],
      "source": [
        "# Q29. Write a code to combine two dictionaries into one and print the result.\n",
        "dict1 = {'a': 1, 'b': 2}\n",
        "dict2 = {'c': 3, 'd': 4}\n",
        "combined_dict = {**dict1, **dict2}\n",
        "\n",
        "print(\"Combined Dictionary:\", combined_dict)\n"
      ]
    },
    {
      "cell_type": "code",
      "execution_count": 35,
      "metadata": {
        "colab": {
          "base_uri": "https://localhost:8080/"
        },
        "id": "_B67daOv2a6m",
        "outputId": "eaa60a64-069e-4c49-ac8b-04580f0c3aad"
      },
      "outputs": [
        {
          "name": "stdout",
          "output_type": "stream",
          "text": [
            "Set from list: {'apple', 'banana', 'cherry'}\n"
          ]
        }
      ],
      "source": [
        "# Q30. Write a code to convert a list of strings into a set.\n",
        "my_list = ['apple', 'banana', 'cherry', 'apple']\n",
        "my_set = set(my_list)\n",
        "\n",
        "print(\"Set from list:\", my_set)\n"
      ]
    }
  ],
  "metadata": {
    "colab": {
      "provenance": []
    },
    "kernelspec": {
      "display_name": "Python 3",
      "name": "python3"
    },
    "language_info": {
      "name": "python"
    }
  },
  "nbformat": 4,
  "nbformat_minor": 0
}
