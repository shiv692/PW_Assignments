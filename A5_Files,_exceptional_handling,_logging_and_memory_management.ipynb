{
  "nbformat": 4,
  "nbformat_minor": 0,
  "metadata": {
    "colab": {
      "provenance": []
    },
    "kernelspec": {
      "name": "python3",
      "display_name": "Python 3"
    },
    "language_info": {
      "name": "python"
    }
  },
  "cells": [
    {
      "cell_type": "markdown",
      "source": [
        "# ASSIGNMENT 5 : Files, exceptional handling, logging and memory management."
      ],
      "metadata": {
        "id": "tjc9suNeg_Na"
      }
    },
    {
      "cell_type": "markdown",
      "source": [
        "\n",
        "\n",
        "---\n",
        "\n"
      ],
      "metadata": {
        "id": "K17zMudThG3n"
      }
    },
    {
      "cell_type": "markdown",
      "source": [
        "Q1. What is the difference between interpreted and compiled languages?\n",
        "  - Programming languages are divided into two main types based on how the source code is converted into machine-readable instructions: compiled languages and interpreted languages. The primary difference lies in how and when the code is translated into machine code. In a compiled language, the entire program is first translated into machine code before execution, using a tool called a compiler. This compiler takes the source code and produces an independent executable file. Once compiled successfully, the program can be run without needing the source code again. Since the entire code is already translated, compiled programs usually run faster and are more efficient. However, all errors in the code must be fixed before the program can run, as the compiler checks the whole code in one go. Examples of compiled languages include C, C++, and Go. In contrast, an interpreted language uses an interpreter, which reads and executes the source code line by line during runtime. This means that translation and execution happen simultaneously. Interpreted languages are often easier to test and debug because the code can be modified and run immediately without recompiling the entire program. However, they usually run slower than compiled languages because the code is interpreted each time it is executed. Common interpreted languages include Python, JavaScript and Ruby.\n",
        "\n"
      ],
      "metadata": {
        "id": "IyDuRaJJhI24"
      }
    },
    {
      "cell_type": "markdown",
      "source": [
        "Q2. What is exception handling in Python?\n",
        "  - Exception handling in Python is a technique used to manage errors that may occur while a program is running. During execution, certain situations such as dividing by zero, accessing a file that doesn't exist, or using an undefined variable can cause the program to stop and display an error message. These unexpected events are called exceptions. If not handled properly, they can crash the program and interrupt its flow. Python provides a structured way to handle such situations using the keywords try, except, else, and finally. The try block contains the code that might raise an error. If an exception occurs inside the try block, Python immediately jumps to the except block, where the programmer can define what to do when the error occurs — such as printing a message or taking corrective action. The else block runs if no errors occur, and the finally block runs no matter what — whether an exception happened or not — and is often used for clean-up tasks like closing files or releasing resources. Using exception handling improves the reliability of a program. It prevents sudden crashes and allows the program to deal with errors in a controlled and user-friendly manner.\n",
        "   - Example:\n",
        "                try:\n",
        "                number = 10 / 0\n",
        "                except ZeroDivisionError:\n",
        "                print(\"Cannot divide by zero.\")\n",
        "                finally:\n",
        "                print(\"This will always run.\")\n",
        "\n"
      ],
      "metadata": {
        "id": "tEvFzzYkhwc-"
      }
    },
    {
      "cell_type": "markdown",
      "source": [
        "Q3. What is the purpose of the finally block in exception handling?\n",
        "  - The finally block in Python is used to define a section of code that must always execute, no matter what happens in the try or except blocks. Whether an exception is raised or not, and whether it is handled or not, the code inside the finally block will still run. This makes it useful for performing clean-up actions that should happen regardless of how the code ran — such as closing a file, disconnecting from a database, or releasing memory or system resources. The finally block provides a way to ensure that important tasks are completed even if the program runs into an error. It helps make programs more reliable and avoids leaving open files, active network connections, or incomplete transactions due to unexpected errors. This block is always placed at the end of the try-except structure. It is optional but highly recommended when a program includes actions that need to be finalized or cleaned up after an operation.\n",
        "   - Example:\n",
        "              try:\n",
        "              file = open(\"data.txt\", \"r\")\n",
        "              content = file.read()\n",
        "              except FileNotFoundError:\n",
        "              print(\"File not found.\")\n",
        "              finally:\n",
        "              print(\"Closing the file.\")\n",
        "              file.close()\n"
      ],
      "metadata": {
        "id": "PmlFYhguiTbv"
      }
    },
    {
      "cell_type": "markdown",
      "source": [
        "Q4. What is logging in Python?\n",
        "  - Logging in Python is a method used to record events that happen while a program is running. It allows developers to keep track of the program's behavior and identify issues, bugs, or unexpected results. Unlike printing messages to the console using print(), logging provides more control, flexibility, and long-term tracking by saving messages to files or displaying them based on importance levels. The main purpose of logging is to monitor and debug programs without interrupting their flow. Logs can store useful information like errors, warnings, status updates, or custom messages. Python has a built-in logging module that helps create logs with different levels of seriousness such as DEBUG, INFO, WARNING, ERROR, and CRITICAL. These levels help categorize messages and decide which ones should be displayed or stored, especially in large applications. Logging becomes especially useful in real-world software projects where printing messages is not practical. Logs can be reviewed after a program has run, helping developers understand what happened and when. It also allows saving logs to files, which can be shared or analyzed later for troubleshooting.\n",
        "    - Example:\n",
        "              import logging\n",
        "              logging.basicConfig(level=logging.INFO)\n",
        "              logging.info(\"This is an informational message.\")\n",
        "              logging.warning(\"This is a warning.\")\n",
        "              logging.error(\"This is an error message.\")\n"
      ],
      "metadata": {
        "id": "g1-Nne5zipu1"
      }
    },
    {
      "cell_type": "markdown",
      "source": [
        "Q5. What is the significance of the __del__ method in Python?\n",
        "  - The __del__ method in Python is known as a destructor. It is a special method that is called automatically when an object is about to be destroyed. The main purpose of the __del__ method is to allow the programmer to define clean-up actions, such as releasing resources, closing files, or disconnecting from a database, just before the object is removed from memory. Python uses a technique called garbage collection to manage memory. When there are no more references to an object, Python automatically deletes it. Before doing so, if the object has a __del__ method defined, Python will call that method to allow any necessary clean-up to happen. Even though the __del__ method can be useful in certain cases, it is rarely used in modern Python programming because there are more reliable ways to manage resources, such as using context managers (with statements). Also, relying too much on __del__ can lead to unexpected behavior, especially if there are reference cycles or delays in garbage collection.\n",
        "    - Example:\n",
        "                class FileHandler:\n",
        "                def __init__(self, filename):\n",
        "                self.file = open(filename, \"w\")\n",
        "                print(\"File opened.\")\n",
        "\n",
        "                 def __del__(self):\n",
        "                  self.file.close()\n",
        "                  print(\"File closed.\")\n",
        "\n",
        "                handler = FileHandler(\"example.txt\")\n",
        "                del handler  # Manually deleting the object\n"
      ],
      "metadata": {
        "id": "BmIlKUJRi9YM"
      }
    },
    {
      "cell_type": "markdown",
      "source": [
        "Q6. What is the difference between import and from ... import in Python?\n",
        "  - In Python, both import and from ... import are used to access external modules or specific functions, classes, or variables from those modules. However, they work differently and serve different purposes depending on what needs to be accessed and how it will be used in the code. The import statement is used to bring an entire module into the current program. After importing the module, any function or variable from it must be used with the module name as a prefix. This helps avoid naming conflicts and keeps the code organized, but it can make the code slightly longer to write. In contrast, the from ... import statement allows specific functions, classes, or variables to be imported directly from a module. This means they can be used without writing the module name, making the code shorter and sometimes more readable. However, this approach should be used carefully to avoid confusion if multiple modules contain functions or names that are the same.\n",
        "    - Example:\n",
        "              # Using import\n",
        "              import math\n",
        "              print(math.sqrt(16))  # Output: 4.0\n",
        "              # Using from ... import\n",
        "              from math import sqrt\n",
        "              print(sqrt(25))  # Output: 5.0\n"
      ],
      "metadata": {
        "id": "8_g5rKWSjSuw"
      }
    },
    {
      "cell_type": "markdown",
      "source": [
        "Q7. How can you handle multiple exceptions in Python?\n",
        "  - In Python, it is possible for different types of errors (called exceptions) to occur during program execution. Sometimes, a block of code might raise more than one type of exception, depending on different situations. To handle such cases properly, Python allows the use of multiple except blocks, so that each specific error can be managed in a different way. By writing multiple except clauses after a try block, each one can catch and respond to a different type of error. This helps the program provide more accurate error messages and take different actions based on the specific problem. It also improves the clarity and safety of the code. Additionally, Python allows multiple exceptions to be grouped in a single except clause using parentheses, which is helpful when the response to different exceptions should be the same. This avoids repeating the same code for each type of exception.\n",
        "    - Example:\n",
        "              try:\n",
        "              number = int(input(\"Enter a number: \"))\n",
        "               result = 10 / number\n",
        "              except ValueError:\n",
        "               print(\"Please enter a valid integer.\")\n",
        "                except ZeroDivisionError:\n",
        "              print(\"Cannot divide by zero.\")\n",
        "              except (TypeError, NameError):\n",
        "               print(\"Type or name error occurred.\")\n"
      ],
      "metadata": {
        "id": "8Kb5tsEkjjAx"
      }
    },
    {
      "cell_type": "markdown",
      "source": [
        "Q8. What is the purpose of the with statement when handling files in Python?\n",
        "  - The with statement in Python is used to simplify the process of working with files and managing resources safely. When handling files, it's important to open the file, perform the required operations (like reading or writing), and then close the file to free up system resources. Forgetting to close the file manually can lead to memory leaks, file corruption, or program crashes, especially in larger applications. The with statement provides a more reliable and cleaner way to handle files. It creates a context in which the file is opened, and ensures that the file is automatically closed once the block of code inside the with statement is finished — even if an error occurs during the operation. This automatic handling is why the with statement is often referred to as a context manager. Using with makes the code shorter, more readable, and less prone to errors, compared to opening and closing files manually using open() and close() functions.\n",
        "    - Example:\n",
        "                with open(\"example.txt\", \"r\") as file:\n",
        "                 content = file.read()\n",
        "                   print(content)\n"
      ],
      "metadata": {
        "id": "g-R2ttfFj4T5"
      }
    },
    {
      "cell_type": "markdown",
      "source": [
        "Q9. What is the difference between multithreading and multiprocessing\n",
        "  - Multithreading and multiprocessing are two techniques used in Python to perform multiple tasks at the same time. They help improve the performance of programs, especially when dealing with tasks that take time, such as downloading files, processing large data, or handling user input and background tasks together. However, the way they work is quite different. Multithreading involves running multiple threads within the same process. A thread is a smaller unit of a process, and all threads in a program share the same memory space. This makes communication between threads easier, but it also creates the risk of conflicts and data corruption if not managed carefully. Multithreading is more suitable for tasks that are I/O-bound, like reading and writing files, waiting for user input, or network requests — where the CPU is not constantly busy. Multiprocessing, on the other hand, involves running multiple processes, where each process has its own separate memory space. These processes run independently and do not interfere with each other, which makes multiprocessing more stable and better for CPU-bound tasks — like heavy calculations, data analysis, or image processing — where the CPU is used intensively. However, communication between processes is more complex and slower than in multithreading.\n",
        "    - Example:\n",
        "                # Multithreading Example\n",
        "                import threading\n",
        "\n",
        "                def task():\n",
        "                 print(\"Task is running\")\n",
        "\n",
        "                thread1 = threading.Thread(target=task)\n",
        "                thread2 = threading.Thread(target=task)\n",
        "\n",
        "                thread1.start()\n",
        "                thread2.start()\n",
        "\n",
        "                # Multiprocessing Example\n",
        "                import multiprocessing\n",
        "\n",
        "                def task():\n",
        "               print(\"Task is running in a new process\")\n",
        "\n",
        "                process1 = multiprocessing.Process(target=task)\n",
        "                process2 = multiprocessing.Process(target=task)\n",
        "\n",
        "                process1.start()\n",
        "                process2.start()\n"
      ],
      "metadata": {
        "id": "o0x1d_89kFyU"
      }
    },
    {
      "cell_type": "markdown",
      "source": [
        "Q10. What are the advantages of using logging in a program?\n",
        "  - Logging is a powerful feature in Python that allows developers to record information about a program’s execution while it is running. Unlike using print() statements, logging offers a more structured and flexible way to track the behavior of a program, especially in complex or long-running applications. It helps in monitoring, debugging, and maintaining code more efficiently. One major advantage of logging is that it allows the program to record different levels of messages, such as debug information, warnings, errors, and critical failures. This makes it easier to understand what went wrong and when. Logs can also be saved to files, so developers can analyze them later without needing to keep the program open or actively watch the screen. Another benefit is that logging can be controlled centrally, which means developers can easily turn it on or off, change how much detail is recorded, or redirect output to different places (console, file, email, etc.). This flexibility makes logging a standard tool in professional software development, where observing real-time program behavior is critical. Logging also helps in identifying bugs, tracing user actions, and recording unusual events, which is very useful for troubleshooting after deployment. It promotes better maintenance and makes the software more reliable.\n",
        "    - Example:\n",
        "          import logging\n",
        "\n",
        "          logging.basicConfig(filename='app.log', level=logging.INFO)\n",
        "          logging.info(\"Program started\")\n",
        "          logging.warning(\"Low memory warning\")\n",
        "          logging.error(\"An error occurred\")\n"
      ],
      "metadata": {
        "id": "eVgR4Ws0kpJb"
      }
    },
    {
      "cell_type": "markdown",
      "source": [
        "Q11. What is memory management in Python?\n",
        "  - Memory management in Python refers to the process of allocating and freeing memory during the execution of a program. Python handles most of the memory management tasks automatically, so programmers don’t usually need to manage memory manually, unlike in some other programming languages like C or C++. This automatic management makes Python easier to use and helps reduce common errors such as memory leaks or accessing freed memory. Python uses a technique called automatic garbage collection to keep track of objects and free up memory that is no longer being used. When a variable or object is created, Python automatically allocates memory for it. Once that object is no longer needed — meaning there are no references pointing to it — Python's garbage collector steps in and removes it from memory, freeing up space for new data. Memory in Python is managed in two levels: private heap memory (where all Python objects and data structures are stored) and reference counting (a technique to track how many variables refer to an object). When the reference count drops to zero, the object becomes unreachable and is eligible for garbage collection. While Python automates memory management, programmers can still influence it by writing efficient code, avoiding unnecessary object creation, and using tools like the gc module to interact with the garbage collector when needed.\n",
        "      \n",
        "  - Example:\n",
        "       \n",
        "        import gc\n",
        "        a = [1, 2, 3]\n",
        "        b = a  # b also refers to the same list\n",
        "        del a  # only one reference left\n",
        "        del b  # now no references remain\n",
        "        gc.collect()  # manually triggering garbage collection\n"
      ],
      "metadata": {
        "id": "mkEAJ241k7M_"
      }
    },
    {
      "cell_type": "markdown",
      "source": [
        "Q12. What are the basic steps involved in exception handling in Python?\n",
        "  - Exception handling in Python involves a structured approach to detecting and responding to errors that may occur during the execution of a program. The goal is to prevent the program from crashing unexpectedly and to provide a graceful way to handle unusual or invalid situations. The basic steps in Python's exception handling process begin with the try block, which contains the code that might raise an exception. If an error occurs in this block, Python immediately stops executing the rest of the code in the try block and jumps to the corresponding except block. The except block defines how to respond to specific exceptions, such as printing an error message or taking corrective action. Optionally, an else block can be added after all except blocks. This block runs only if no exception occurs in the try block, and is typically used to define what should happen when everything goes as expected. Finally, a finally block can be used to define code that should always run, regardless of whether an exception occurred or not. This is often used for clean-up tasks like closing files or releasing resources. These four components — try, except, else, and finally — form the foundation of structured and safe error handling in Python.\n",
        "\n",
        "  - Example:\n",
        "        try:\n",
        "        number = int(input(\"Enter a number: \"))\n",
        "        result = 10 / number\n",
        "        except ValueError:\n",
        "        print(\"Please enter a valid integer.\")\n",
        "        except ZeroDivisionError:\n",
        "        print(\"Cannot divide by zero.\")\n",
        "        else:\n",
        "        print(\"Division successful.\")\n",
        "        finally:\n",
        "        print(\"Program ended.\")\n"
      ],
      "metadata": {
        "id": "iC1LjQ_ulUJC"
      }
    },
    {
      "cell_type": "markdown",
      "source": [
        "Q13. Why is memory management important in Python?\n",
        "  - Memory management is important in Python because it ensures that the program uses system resources efficiently. When a program runs, it creates objects and variables that require memory. If memory is not properly managed, the program may keep holding onto memory that is no longer needed, leading to memory leaks, slow performance, or even program crashes, especially in large or long-running applications.Python handles most memory-related tasks automatically using features like reference counting and garbage collection, which help free up memory when objects are no longer in use. However, even with these built-in features, writing efficient code that avoids unnecessary object creation or keeps memory usage low is still essential. Proper memory management improves speed, stability, and scalability, making the program more reliable and suitable for real-world use. It also becomes crucial in scenarios where a Python program works with large datasets, files, or multiple processes. Without good memory handling, the program can consume more RAM than necessary, slowing down the system or causing it to run out of memory. Hence, understanding and applying memory management principles helps developers write better, more optimized software.\n",
        "\n",
        "  - Example:\n",
        "          import gc\n",
        "          class Demo:\n",
        "          def __init__(self):\n",
        "          print(\"Object created.\")\n",
        "          def __del__(self):\n",
        "          print(\"Object destroyed.\")\n",
        "          obj = Demo()\n",
        "          del obj  # Object becomes unreachable\n",
        "          gc.collect()  # Garbage collector frees up memory\n"
      ],
      "metadata": {
        "id": "-l4hQgp0lvee"
      }
    },
    {
      "cell_type": "markdown",
      "source": [
        "Q14. What is the role of try and except in exception handling?\n",
        "  - The try and except blocks are the core components of exception handling in Python. They are used to catch and handle errors during the execution of a program, so that the program does not crash or stop unexpectedly when something goes wrong.The try block is used to wrap the code that might raise an error. Python executes the code inside the try block normally, but if an error (exception) occurs at any point, Python immediately stops executing the rest of the code in that block. When an exception is raised inside the try block, Python jumps to the except block, which contains the code to handle the error. The except block defines what should happen when a specific type of error occurs — such as printing an error message, logging the issue, or providing an alternative solution. This prevents the program from crashing and allows it to continue running smoothly or exit gracefully. Together, try and except help developers build robust and user-friendly programs, where unexpected events can be managed cleanly without affecting the entire application.\n",
        "\n",
        "  - Example:\n",
        "        try:\n",
        "        value = int(input(\"Enter a number: \"))\n",
        "        result = 10 / value\n",
        "        except ValueError:\n",
        "        print(\"Please enter a valid number.\")\n",
        "        except ZeroDivisionError:\n",
        "        print(\"Cannot divide by zero.\")\n"
      ],
      "metadata": {
        "id": "aKhZHWiDmC8w"
      }
    },
    {
      "cell_type": "markdown",
      "source": [
        "Q15. How does Python's garbage collection system work?\n",
        "  - Python’s garbage collection system is responsible for automatically managing memory by identifying and cleaning up objects that are no longer in use. This process helps free memory for new data and ensures that programs run efficiently without memory leaks.The core mechanism behind garbage collection in Python is reference counting. Every object in Python has a reference count — which means the number of variables or places in the code that refer to that object. When the reference count of an object drops to zero, meaning no part of the program is using it anymore, Python considers the object unreachable and deletes it from memory. However, reference counting alone cannot handle all situations. For example, if two objects refer to each other but nothing else refers to them, their reference counts never drop to zero. This is called a circular reference. To deal with such cases, Python also includes a garbage collector module (gc) that automatically looks for circular references and removes those unused objects periodically. This combination of reference counting and cycle detection allows Python to manage memory efficiently with minimal programmer effort. Developers can also manually interact with the garbage collector using the gc module, especially in large applications where memory usage needs close monitoring.\n",
        "\n",
        "  - Example:\n",
        "        import gc\n",
        "        class Example:\n",
        "        def __del__(self):\n",
        "        print(\"Object is being deleted\")\n",
        "        obj1 = Example()\n",
        "        obj2 = obj1\n",
        "        del obj1\n",
        "        del obj2\n",
        "        gc.collect()  # Triggers garbage collection manually\n"
      ],
      "metadata": {
        "id": "1fgskY7bmXnV"
      }
    },
    {
      "cell_type": "markdown",
      "source": [
        "Q16. What is the purpose of the else block in exception handling?\n",
        "  - The else block in Python’s exception handling is used to define a section of code that should be executed only if no exceptions occur in the try block. It acts as a clean space where the programmer can place code that should run only when the try block is successful and does not raise any errors. This block helps in keeping the code organized and separated. By using an else block, it becomes clear which part of the code is the “safe zone” — meaning it should only run when the program has not encountered any exceptions. It also prevents mixing error-handling logic with normal code execution, improving readability and clarity. The else block must always appear after all except blocks and before the finally block (if one is used). While it is optional, it is considered a good practice to use it when there are follow-up steps that depend on the success of the try block.\n",
        "\n",
        "  - Example:\n",
        "        try:\n",
        "        number = int(input(\"Enter a number: \"))\n",
        "        result = 10 / number\n",
        "        except ValueError:\n",
        "        print(\"Invalid input. Please enter a number.\")\n",
        "        except ZeroDivisionError:\n",
        "        print(\"Cannot divide by zero.\")\n",
        "        else:\n",
        "        print(f\"Division successful: {result}\")\n"
      ],
      "metadata": {
        "id": "R-uBU_LSmtYq"
      }
    },
    {
      "cell_type": "markdown",
      "source": [
        "Q17. What are the common logging levels in Python?\n",
        "  - In Python, logging levels are used to categorize messages based on their severity or importance. These levels help developers understand the context of logged events, filter what information gets recorded, and respond appropriately to different situations during program execution. The Python logging module provides five standard logging levels, each serving a specific purpose.\n",
        "\n",
        "- DEBUG: This is the lowest level, used for detailed diagnostic information. It’s typically used during development to understand how the code is working step by step.\n",
        "\n",
        "- INFO: This level is used to log general information about the program’s execution. It is helpful for tracking the progress and confirming that things are working as expected.\n",
        "\n",
        "- WARNING: This level is used when something unexpected happens, or there is a potential problem, but the program can still continue to run.\n",
        "\n",
        "- ERROR: This level indicates a serious problem that has caused part of the program to fail. It is used when the program cannot perform a particular function.\n",
        "\n",
        "- CRITICAL: This is the highest level, used when there is a severe error that may cause the entire program to stop or crash. It signals a very serious issue that needs immediate attention.\n",
        "\n",
        "Choosing the appropriate logging level ensures that logs are organized, meaningful, and easy to interpret, especially in large or production-level projects.\n",
        "\n",
        "  - Example:\n",
        "        import logging\n",
        "        logging.basicConfig(level=logging.DEBUG)\n",
        "\n",
        "        logging.debug(\"Debugging the code.\")\n",
        "        logging.info(\"Application started.\")\n",
        "        logging.warning(\"Low disk space.\")\n",
        "        logging.error(\"Failed to load file.\")\n",
        "        logging.critical(\"System crash!\")\n"
      ],
      "metadata": {
        "id": "noXtl4panAY7"
      }
    },
    {
      "cell_type": "markdown",
      "source": [
        "Q18. What is the difference between os.fork() and multiprocessing in Python?\n",
        "  - Both os.fork() and the multiprocessing module in Python are used to create new processes, but they are very different in how they work, their portability, and their use cases. The os.fork() function is a low-level system call available only on Unix-based systems like Linux and macOS. When os.fork() is called, it creates a copy of the current process, known as the child process. The child process runs independently from the parent but shares the same memory space at the time of creation. However, managing processes using os.fork() can be complex, and it is usually recommended only for experienced developers who are building system-level programs or scripts that need direct control over process behavior. On the other hand, the multiprocessing module is a high-level and cross-platform Python module that allows the creation of independent processes. It works on both Windows and Unix systems, and each process it creates runs in its own separate memory space, which makes it safer and more stable for parallel processing tasks. The multiprocessing module is easier to use and is the preferred approach in modern Python applications that need to perform CPU-bound operations in parallel, such as data analysis, image processing, or mathematical computations.\n",
        "\n",
        "\n",
        "  - Example:\n",
        "          # Using os.fork (Unix/Linux only)\n",
        "          import os\n",
        "          \n",
        "          pid = os.fork()\n",
        "          if pid == 0:\n",
        "          print(\"This is the child process.\")\n",
        "          else:\n",
        "          print(\"This is the parent process.\")\n",
        "          \n",
        "          # Using multiprocessing (Cross-platform)\n",
        "          from multiprocessing import Process\n",
        "          \n",
        "          def task():\n",
        "          print(\"Running in a separate process.\")\n",
        "          \n",
        "          p = Process(target=task)\n",
        "          p.start()\n",
        "          p.join()\n"
      ],
      "metadata": {
        "id": "fBNMVA2rnduM"
      }
    },
    {
      "cell_type": "markdown",
      "source": [
        "Q19. What is the importance of closing a file in Python?\n",
        "  - Closing a file in Python is important because it ensures that all the resources used by the file are properly released and that any data written to the file is safely saved. When a file is opened using the open() function, the system allocates resources like memory and file handlers to keep the file active. If the file is not closed after the operations are completed, these resources remain locked, which can eventually slow down the system or lead to data corruption. Another critical reason for closing a file is to flush the internal buffer. When writing to a file, Python may temporarily store data in a buffer to optimize performance. If the file is not closed, the data might remain in the buffer and not actually get saved to the file, leading to incomplete or missing content. Closing the file ensures that all buffered data is written to the disk correctly. Additionally, keeping too many files open without closing them can hit system limits and cause the program to crash or throw errors. It is especially important in applications that work with many files or run for a long time. Using the with statement is recommended because it automatically closes the file once the block is completed, reducing the risk of forgetting to close it manually.\n",
        "\n",
        "Example:\n",
        "        # Manual file closing\n",
        "        file = open(\"sample.txt\", \"w\")\n",
        "        file.write(\"Hello, world!\")\n",
        "        file.close()  # Important to close after writing\n",
        "        \n",
        "        # Using with statement (auto-closes the file)\n",
        "        with open(\"sample.txt\", \"r\") as file:\n",
        "        content = file.read()\n",
        "        print(content)\n"
      ],
      "metadata": {
        "id": "VMoEZIs9n8H6"
      }
    },
    {
      "cell_type": "markdown",
      "source": [
        "Q20. What is the difference between file.read() and file.readline() in Python?\n",
        "  - In Python, both file.read() and file.readline() are used to read data from a file, but they serve different purposes and behave differently. The file.read() method reads the entire content of the file at once and returns it as a single string. It is useful when you want to process the whole file in one go, such as when reading a configuration file or analyzing a small text document. However, using read() on a very large file can be risky because it loads everything into memory at once, which may slow down the program or even cause it to crash if the file is too large. On the other hand, the file.readline() method reads the file one line at a time, returning each line as a separate string (including the newline character \\n). This is more memory-efficient and is ideal for processing large files line by line, such as log files or data files with millions of lines. You can use it in a loop to read through the file gradually. In short, read() is for reading the whole file, while readline() is for reading one line at a time, which is more controlled and memory-friendly.\n",
        "  \n",
        "  \n"
      ],
      "metadata": {
        "id": "j4luziojoOyB"
      }
    },
    {
      "cell_type": "markdown",
      "source": [
        "Q21. What is the logging module in Python used for?\n",
        "  - The logging module in Python is used to record messages that describe events happening in a program. These messages can be helpful for tracking the flow of the program, debugging errors, or monitoring behavior during execution. Instead of using print() statements, which are temporary and not flexible, logging provides a more professional and organized way to output useful information. This module allows developers to log messages with different levels of importance, such as debugging details, general information, warnings, errors, or critical failures. It also supports writing these messages to different outputs, such as the console, log files, or even remote servers. This makes it easier to understand what went wrong when something fails, especially in large or long-running applications. By using the logging module, developers can also control what kind of messages appear, filter logs based on severity, and keep a permanent record of issues that occurred during program execution.\n",
        "    - Example:\n",
        "              import logging\n",
        "\n",
        "              logging.basicConfig(level=logging.INFO)\n",
        "              logging.debug(\"This is a debug message.\")\n",
        "              logging.info(\"Program started.\")\n",
        "              logging.warning(\"Low memory warning.\")\n",
        "              logging.error(\"An error occurred.\")\n",
        "              logging.critical(\"Critical system failure.\")\n"
      ],
      "metadata": {
        "id": "1XnosUCIomTj"
      }
    },
    {
      "cell_type": "markdown",
      "source": [
        "Q22. What is the os module in Python used for in file handling?\n",
        "  - The os module in Python is used to interact with the operating system, especially for tasks like file and directory handling. When working with files, the os module provides a set of powerful functions to create, delete, move, rename, and check files or folders. It helps developers manage files in a way that works across different operating systems like Windows, Linux, and macOS. Using os, one can check if a file or directory exists before performing operations, which helps avoid errors. It also allows listing files in a folder, changing directories, and getting details like file size or creation time. These features are very useful in automation scripts, data processing tasks, and projects that deal with large numbers of files. In short, the os module gives the ability to perform low-level file operations directly from Python, making file handling more flexible and efficient.\n",
        "    - Example:\n",
        "              import os\n",
        "              # Create a new directory\n",
        "              os.mkdir(\"my_folder\")\n",
        "              \n",
        "              # Rename a file\n",
        "              os.rename(\"old_name.txt\", \"new_name.txt\")\n",
        "              \n",
        "              # Check if a file exists\n",
        "              if os.path.exists(\"new_name.txt\"):\n",
        "              print(\"File found.\")\n",
        "              \n",
        "              # Remove a file\n",
        "              os.remove(\"new_name.txt\")\n",
        "              \n",
        "              # List all files in the current directory\n",
        "              print(os.listdir(\".\"))\n"
      ],
      "metadata": {
        "id": "NlW12tNMo5TA"
      }
    },
    {
      "cell_type": "markdown",
      "source": [
        "Q23. What are the challenges associated with memory management in Python?\n",
        "  - Memory management in Python is mostly handled automatically through a built-in garbage collector, but there are still some important challenges that developers should be aware of, especially when working with large or long-running programs. One major challenge is memory leaks, which occur when a program keeps references to objects that are no longer needed. Since Python's garbage collector only frees memory from objects that are not referenced anymore, unnecessary references can prevent memory from being released, gradually consuming more and more RAM. Another challenge is circular references, where two or more objects reference each other in a loop. This can confuse the garbage collector and delay memory cleanup, especially in older Python versions where reference counting was the main method of memory tracking. Additionally, inefficient use of data structures like lists, dictionaries, or large nested objects can lead to excessive memory usage. Holding on to unused data, loading large files all at once, or using global variables unnecessarily are common causes. Finally, managing memory in multi-threaded or multi-process applications can also be tricky, as it becomes harder to track which objects are being used where.\n",
        "\n",
        "Example:\n",
        "        # Example of a circular reference\n",
        "        class A:\n",
        "        def __init__(self):\n",
        "        self.b = None\n",
        "        \n",
        "        class B:\n",
        "        def __init__(self):\n",
        "        self.a = None\n",
        "        \n",
        "        a = A()\n",
        "        b = B()\n",
        "        a.b = b\n",
        "        b.a = a  # Creates a circular reference\n"
      ],
      "metadata": {
        "id": "Kq9y0NtYpOrz"
      }
    },
    {
      "cell_type": "markdown",
      "source": [
        "Q24. How do you raise an exception manually in Python?\n",
        "  - In Python, an exception can be raised manually using the raise keyword. This is useful when a programmer wants to intentionally stop the execution of a program under certain conditions, such as invalid user input, logical errors, or violation of business rules. Raising an exception manually allows the developer to signal that something has gone wrong, even if Python itself hasn’t detected a problem yet. It helps in enforcing rules and maintaining control over the flow of the program. When the raise statement is used, it immediately halts the current code execution and looks for an appropriate except block to handle the error. You can raise built-in exceptions like ValueError, TypeError, or create and raise custom exceptions by defining your own exception class.\n",
        "\n",
        "    - Example:\n",
        "              # Raising a built-in exception manually\n",
        "              age = int(input(\"Enter your age: \"))\n",
        "              if age < 0:\n",
        "              raise ValueError(\"Age cannot be negative\")\n",
        "              \n",
        "              # Raising a custom exception\n",
        "              class MyError(Exception):\n",
        "              pass\n",
        "              raise MyError(\"This is a custom error message\")\n"
      ],
      "metadata": {
        "id": "dmbF9CVKpzN1"
      }
    },
    {
      "cell_type": "markdown",
      "source": [
        "Q25. Why is it important to use multithreading in certain applications?\n",
        "  - Multithreading is important in certain applications because it allows a program to perform multiple tasks at the same time, which improves efficiency and responsiveness. In many real-world scenarios, programs need to handle multiple operations simultaneously. For example, a web browser might need to download a file, play music, and let the user scroll the page — all at once. This is where multithreading becomes useful.By using multithreading, an application can make better use of the CPU by executing independent tasks in parallel, especially when those tasks involve waiting (like reading from a file, downloading from the internet, or handling user input). This makes the program more responsive and faster in practice, even if the CPU is not performing more computations. However, multithreading is not always ideal for CPU-heavy tasks in Python due to the Global Interpreter Lock (GIL), but it is highly effective for I/O-bound tasks, such as network operations or file handling.\n",
        "\n",
        "    - Example:\n",
        "              import threading\n",
        "              import time\n",
        "              \n",
        "              def print_numbers():\n",
        "              for i in range(5):\n",
        "              print(f\"Number: {i}\")\n",
        "              time.sleep(1)\n",
        "              \n",
        "              def print_letters():\n",
        "              for letter in ['A', 'B', 'C', 'D', 'E']:\n",
        "              print(f\"Letter: {letter}\")\n",
        "              time.sleep(1)\n",
        "              \n",
        "              # Creating threads\n",
        "              t1 = threading.Thread(target=print_numbers)\n",
        "              t2 = threading.Thread(target=print_letters)\n",
        "              \n",
        "              # Starting thread\n",
        "              t1.start()\n",
        "              t2.start()\n",
        "              \n",
        "              # Waiting for both to finish\n",
        "              t1.join()\n",
        "              t2.join()\n",
        "\n",
        "\n",
        "\n"
      ],
      "metadata": {
        "id": "a6tIz6xVqDOM"
      }
    },
    {
      "cell_type": "markdown",
      "source": [
        "\n",
        "\n",
        "---\n",
        "\n"
      ],
      "metadata": {
        "id": "2THZMZekqcz6"
      }
    },
    {
      "cell_type": "code",
      "source": [
        "# Q1: How can you open a file for writing in Python and write a string to it?\n",
        "\n",
        "# Open the file in write mode ('w') and write a string to it\n",
        "with open(\"output.txt\", \"w\") as file:\n",
        "    file.write(\"This is a sample string written to the file.\")\n"
      ],
      "metadata": {
        "id": "B7hgC8pQ2ccp"
      },
      "execution_count": null,
      "outputs": []
    },
    {
      "cell_type": "code",
      "source": [
        "# Q2: Write a Python program to read the contents of a file and print each line\n",
        "\n",
        "# Open the file in read mode ('r') and print each line\n",
        "with open(\"output.txt\", \"r\") as file:\n",
        "    for line in file:\n",
        "        print(line.strip())  # .strip() removes the newline character at the end of each line\n"
      ],
      "metadata": {
        "colab": {
          "base_uri": "https://localhost:8080/"
        },
        "id": "51XyeAuQ2kN3",
        "outputId": "9c9b2fdf-9a3b-48e7-8946-641b6fbeeb21"
      },
      "execution_count": null,
      "outputs": [
        {
          "output_type": "stream",
          "name": "stdout",
          "text": [
            "This is a sample string written to the file.\n"
          ]
        }
      ]
    },
    {
      "cell_type": "code",
      "source": [
        "# Q3: How would you handle a case where the file doesn't exist while trying to open it for reading?\n",
        "\n",
        "# Use try-except to handle FileNotFoundError when trying to read a non-existent file\n",
        "try:\n",
        "    with open(\"non_existing_file.txt\", \"r\") as file:\n",
        "        contents = file.read()\n",
        "        print(contents)\n",
        "except FileNotFoundError:\n",
        "    print(\"The file does not exist. Please check the file name or path.\")\n"
      ],
      "metadata": {
        "colab": {
          "base_uri": "https://localhost:8080/"
        },
        "id": "C8PcmBNe23qp",
        "outputId": "9e7ba08e-c6a2-4698-844c-4ea42f83f691"
      },
      "execution_count": null,
      "outputs": [
        {
          "output_type": "stream",
          "name": "stdout",
          "text": [
            "The file does not exist. Please check the file name or path.\n"
          ]
        }
      ]
    },
    {
      "cell_type": "code",
      "source": [
        "# Q4: Write a Python script that reads from one file and writes its content to another file\n",
        "\n",
        "# Step 1: Create a sample source file with some content (only needed once)\n",
        "with open(\"source.txt\", \"w\") as f:\n",
        "    f.write(\"This is the content of the source file.\\nIt has multiple lines.\\nEnjoy reading!\")\n",
        "\n",
        "# Step 2: Read content from 'source.txt' and write it to 'destination.txt'\n",
        "with open(\"source.txt\", \"r\") as source_file:\n",
        "    content = source_file.read()\n",
        "\n",
        "with open(\"destination.txt\", \"w\") as destination_file:\n",
        "    destination_file.write(content)\n",
        "\n",
        "# Step 3: Print the content of the new file to confirm it worked\n",
        "with open(\"destination.txt\", \"r\") as f:\n",
        "    print(f.read())\n"
      ],
      "metadata": {
        "colab": {
          "base_uri": "https://localhost:8080/"
        },
        "id": "e0gQG4kj4EqZ",
        "outputId": "9400726c-4d3d-40fc-f441-8299729d7c52"
      },
      "execution_count": null,
      "outputs": [
        {
          "output_type": "stream",
          "name": "stdout",
          "text": [
            "This is the content of the source file.\n",
            "It has multiple lines.\n",
            "Enjoy reading!\n"
          ]
        }
      ]
    },
    {
      "cell_type": "code",
      "source": [
        "# Q5: How would you catch and handle division by zero error in Python?\n",
        "\n",
        "# Use try-except to catch a ZeroDivisionError when dividing numbers\n",
        "try:\n",
        "    numerator = 10\n",
        "    denominator = 0\n",
        "    result = numerator / denominator\n",
        "    print(\"Result:\", result)\n",
        "except ZeroDivisionError:\n",
        "    print(\"Error: Division by zero is not allowed.\")\n"
      ],
      "metadata": {
        "colab": {
          "base_uri": "https://localhost:8080/"
        },
        "id": "981S85iA4Kh6",
        "outputId": "dda670f5-ec54-4041-e5f6-8ade0c0be561"
      },
      "execution_count": null,
      "outputs": [
        {
          "output_type": "stream",
          "name": "stdout",
          "text": [
            "Error: Division by zero is not allowed.\n"
          ]
        }
      ]
    },
    {
      "cell_type": "code",
      "source": [
        "# Q6: Write a Python program that logs an error message to a log file when a division by zero exception occurs\n",
        "\n",
        "import logging\n",
        "\n",
        "# Step 1: Configure logging to write to a file named 'error.log'\n",
        "logging.basicConfig(filename='error.log', level=logging.ERROR, format='%(asctime)s - %(levelname)s - %(message)s')\n",
        "\n",
        "# Step 2: Try dividing numbers and catch division by zero errors\n",
        "try:\n",
        "    numerator = 10\n",
        "    denominator = 0\n",
        "    result = numerator / denominator\n",
        "    print(\"Result:\", result)\n",
        "except ZeroDivisionError as e:\n",
        "    # Step 3: Log the error message to 'error.log'\n",
        "    logging.error(\"Attempted division by zero: %s\", e)\n",
        "    print(\"An error occurred. Please check the log file for details.\")\n"
      ],
      "metadata": {
        "colab": {
          "base_uri": "https://localhost:8080/"
        },
        "id": "YbAv39qv4ciU",
        "outputId": "8c07ba82-3a91-4e92-de67-bc4e27e64e02"
      },
      "execution_count": null,
      "outputs": [
        {
          "output_type": "stream",
          "name": "stderr",
          "text": [
            "ERROR:root:Attempted division by zero: division by zero\n"
          ]
        },
        {
          "output_type": "stream",
          "name": "stdout",
          "text": [
            "An error occurred. Please check the log file for details.\n"
          ]
        }
      ]
    },
    {
      "cell_type": "code",
      "source": [
        "# Q7: How do you log information at different levels (INFO, ERROR, WARNING) in Python using the logging module?\n",
        "\n",
        "import logging\n",
        "\n",
        "\n",
        "logging.basicConfig(level=logging.DEBUG, format='%(asctime)s - %(levelname)s - %(message)s')\n",
        "\n",
        "\n",
        "logging.debug(\"This is a DEBUG message — used for detailed troubleshooting.\")\n",
        "logging.info(\"This is an INFO message — used to show general information.\")\n",
        "logging.warning(\"This is a WARNING message — used to indicate a potential issue.\")\n",
        "logging.error(\"This is an ERROR message — used when an error has occurred.\")\n",
        "logging.critical(\"This is a CRITICAL message — used for serious failures.\")\n"
      ],
      "metadata": {
        "colab": {
          "base_uri": "https://localhost:8080/"
        },
        "id": "uM7HuHUB4i58",
        "outputId": "2295e7b9-8abb-47c3-d59a-b0d1b3d4f3be"
      },
      "execution_count": null,
      "outputs": [
        {
          "output_type": "stream",
          "name": "stderr",
          "text": [
            "WARNING:root:This is a WARNING message — used to indicate a potential issue.\n",
            "ERROR:root:This is an ERROR message — used when an error has occurred.\n",
            "CRITICAL:root:This is a CRITICAL message — used for serious failures.\n"
          ]
        }
      ]
    },
    {
      "cell_type": "code",
      "source": [
        "# Q8: Write a program to handle a file opening error using exception handling\n",
        "\n",
        "\n",
        "try:\n",
        "    with open(\"non_existent_file.txt\", \"r\") as file:\n",
        "        content = file.read()\n",
        "        print(content)\n",
        "except FileNotFoundError:\n",
        "    print(\"Error: The file you are trying to open does not exist.\")\n"
      ],
      "metadata": {
        "colab": {
          "base_uri": "https://localhost:8080/"
        },
        "id": "9ABdTAQe4ogA",
        "outputId": "4b902810-a60d-49f0-c66e-d60df96d2969"
      },
      "execution_count": null,
      "outputs": [
        {
          "output_type": "stream",
          "name": "stdout",
          "text": [
            "Error: The file you are trying to open does not exist.\n"
          ]
        }
      ]
    },
    {
      "cell_type": "code",
      "source": [
        "# Q9: How can you read a file line by line and store its content in a list in Python?\n",
        "\n",
        "with open(\"sample.txt\", \"w\") as f:\n",
        "    f.write(\"Line 1\\nLine 2\\nLine 3\\nLine 4\")\n",
        "\n",
        "\n",
        "lines_list = []\n",
        "with open(\"sample.txt\", \"r\") as file:\n",
        "    for line in file:\n",
        "        lines_list.append(line.strip())  # strip() removes the newline character\n",
        "\n",
        "\n",
        "print(lines_list)\n"
      ],
      "metadata": {
        "colab": {
          "base_uri": "https://localhost:8080/"
        },
        "id": "yQ6s6EGL407C",
        "outputId": "45d287ca-e78a-4089-85ac-65643bd8f241"
      },
      "execution_count": null,
      "outputs": [
        {
          "output_type": "stream",
          "name": "stdout",
          "text": [
            "['Line 1', 'Line 2', 'Line 3', 'Line 4']\n"
          ]
        }
      ]
    },
    {
      "cell_type": "code",
      "source": [
        "# Q10: How can you append data to an existing file in Python?\n",
        "\n",
        "with open(\"example.txt\", \"w\") as file:\n",
        "    file.write(\"Initial line.\\n\")\n",
        "\n",
        "with open(\"example.txt\", \"a\") as file:\n",
        "    file.write(\"This line is appended.\\n\")\n",
        "    file.write(\"Another appended line.\\n\")\n",
        "\n",
        "with open(\"example.txt\", \"r\") as file:\n",
        "    content = file.read()\n",
        "    print(content)\n"
      ],
      "metadata": {
        "colab": {
          "base_uri": "https://localhost:8080/"
        },
        "id": "1G-SYwEk5Q05",
        "outputId": "ae67db5e-f438-4aac-a76e-2e7c3b707130"
      },
      "execution_count": null,
      "outputs": [
        {
          "output_type": "stream",
          "name": "stdout",
          "text": [
            "Initial line.\n",
            "This line is appended.\n",
            "Another appended line.\n",
            "\n"
          ]
        }
      ]
    },
    {
      "cell_type": "code",
      "source": [
        "# Q11: Write a Python program that uses a try-except block to handle an error when attempting to access a dictionary key that doesn't exist\n",
        "\n",
        "student_scores = {\n",
        "    \"Alice\": 85,\n",
        "    \"Bob\": 92,\n",
        "    \"Charlie\": 78\n",
        "}\n",
        "\n",
        "try:\n",
        "    score = student_scores[\"David\"]  # 'David' is not in the dictionary\n",
        "    print(\"David's score is:\", score)\n",
        "except KeyError:\n",
        "    print(\"Error: The key 'David' does not exist in the dictionary.\")\n"
      ],
      "metadata": {
        "colab": {
          "base_uri": "https://localhost:8080/"
        },
        "id": "9mDFbYvL5Wur",
        "outputId": "b61421bf-9f9d-4225-dff7-6ae9f3ccdbac"
      },
      "execution_count": null,
      "outputs": [
        {
          "output_type": "stream",
          "name": "stdout",
          "text": [
            "Error: The key 'David' does not exist in the dictionary.\n"
          ]
        }
      ]
    },
    {
      "cell_type": "code",
      "source": [
        "# Q12: Write a program that demonstrates using multiple except blocks to handle different types of exceptions\n",
        "\n",
        "try:\n",
        "    # This block contains code that may raise different types of exceptions\n",
        "    num = int(input(\"Enter a number: \"))\n",
        "    result = 10 / num\n",
        "    print(\"Result is:\", result)\n",
        "\n",
        "    sample_list = [1, 2, 3]\n",
        "    print(\"Element at index 5 is:\", sample_list[5])  # This will raise IndexError\n",
        "\n",
        "except ValueError:\n",
        "    print(\"Error: Invalid input. Please enter a valid integer.\")\n",
        "\n",
        "except ZeroDivisionError:\n",
        "    print(\"Error: Division by zero is not allowed.\")\n",
        "\n",
        "except IndexError:\n",
        "    print(\"Error: List index out of range.\")\n"
      ],
      "metadata": {
        "colab": {
          "base_uri": "https://localhost:8080/"
        },
        "id": "KJ7IH6Kn5kZE",
        "outputId": "cd122e1d-948f-4eb8-cad9-985abd727f8f"
      },
      "execution_count": null,
      "outputs": [
        {
          "output_type": "stream",
          "name": "stdout",
          "text": [
            "Enter a number: abc\n",
            "Error: Invalid input. Please enter a valid integer.\n"
          ]
        }
      ]
    },
    {
      "cell_type": "code",
      "source": [
        "# Q13: How would you check if a file exists before attempting to read it in Python?\n",
        "\n",
        "import os\n",
        "\n",
        "file_path = \"example.txt\"\n",
        "\n",
        "if os.path.exists(file_path):\n",
        "    with open(file_path, \"r\") as file:\n",
        "        content = file.read()\n",
        "        print(\"File content:\")\n",
        "        print(content)\n",
        "else:\n",
        "    print(f\"Error: The file '{file_path}' does not exist.\")\n"
      ],
      "metadata": {
        "colab": {
          "base_uri": "https://localhost:8080/"
        },
        "id": "WmEEHRtv58hS",
        "outputId": "dab1804a-da35-4864-ea03-4244516031bd"
      },
      "execution_count": null,
      "outputs": [
        {
          "output_type": "stream",
          "name": "stdout",
          "text": [
            "File content:\n",
            "Initial line.\n",
            "This line is appended.\n",
            "Another appended line.\n",
            "\n"
          ]
        }
      ]
    },
    {
      "cell_type": "code",
      "source": [
        "# Q14: Write a program that uses the logging module to log both informational and error messages\n",
        "\n",
        "import logging\n",
        "\n",
        "logging.basicConfig(\n",
        "    filename=\"app.log\",             # Logs will be saved to this file\n",
        "    level=logging.DEBUG,            # Capture all levels of logs from DEBUG and above\n",
        "    format=\"%(asctime)s - %(levelname)s - %(message)s\"\n",
        ")\n",
        "\n",
        "logging.info(\"The program has started successfully.\")\n",
        "\n",
        "try:\n",
        "    result = 10 / 0\n",
        "except ZeroDivisionError as e:\n",
        "    logging.error(f\"An error occurred: {e}\")\n"
      ],
      "metadata": {
        "colab": {
          "base_uri": "https://localhost:8080/"
        },
        "id": "E-lBG6C76AwW",
        "outputId": "0a4d8493-e968-4bab-eace-e50c3caafdcf"
      },
      "execution_count": null,
      "outputs": [
        {
          "output_type": "stream",
          "name": "stderr",
          "text": [
            "ERROR:root:An error occurred: division by zero\n"
          ]
        }
      ]
    },
    {
      "cell_type": "code",
      "source": [
        "# Q15: Write a Python program that prints the content of a file and handles the case when the file is empty\n",
        "\n",
        "file_name = \"sample.txt\"  # You can change this to any file name\n",
        "\n",
        "try:\n",
        "    with open(file_name, \"r\") as file:\n",
        "        content = file.read()\n",
        "        if content.strip() == \"\":\n",
        "            print(\"The file is empty.\")\n",
        "        else:\n",
        "            print(\"File content:\")\n",
        "            print(content)\n",
        "except FileNotFoundError:\n",
        "    print(f\"Error: The file '{file_name}' does not exist.\")\n"
      ],
      "metadata": {
        "colab": {
          "base_uri": "https://localhost:8080/"
        },
        "id": "KRI-y5LN6aRs",
        "outputId": "7a138bff-8f1f-448e-be7b-4dabe18b4638"
      },
      "execution_count": null,
      "outputs": [
        {
          "output_type": "stream",
          "name": "stdout",
          "text": [
            "File content:\n",
            "Line 1\n",
            "Line 2\n",
            "Line 3\n",
            "Line 4\n"
          ]
        }
      ]
    },
    {
      "cell_type": "code",
      "source": [
        "# Q16: Demonstrate how to use memory profiling to check the memory usage of a small program\n",
        "\n",
        "\n",
        "!pip install -q psutil\n",
        "\n",
        "\n",
        "import psutil\n",
        "import os\n",
        "\n",
        "def calculate_squares():\n",
        "    numbers = list(range(1, 10000))\n",
        "    squares = [x**2 for x in numbers]\n",
        "    return squares\n",
        "\n",
        "process = psutil.Process(os.getpid())\n",
        "mem_before = process.memory_info().rss / (1024 * 1024)  # in MB\n",
        "\n",
        "# Run the function\n",
        "calculate_squares()\n",
        "\n",
        "mem_after = process.memory_info().rss / (1024 * 1024)  # in MB\n",
        "\n",
        "print(f\"Memory used before: {mem_before:.2f} MB\")\n",
        "print(f\"Memory used after: {mem_after:.2f} MB\")\n",
        "print(f\"Memory consumed by function: {mem_after - mem_before:.2f} MB\")\n"
      ],
      "metadata": {
        "colab": {
          "base_uri": "https://localhost:8080/"
        },
        "id": "MxMbI5Lz9GjK",
        "outputId": "63aecf92-0dbb-4db6-b550-28d915fa1a6f"
      },
      "execution_count": null,
      "outputs": [
        {
          "output_type": "stream",
          "name": "stdout",
          "text": [
            "Memory used before: 111.54 MB\n",
            "Memory used after: 111.54 MB\n",
            "Memory consumed by function: 0.00 MB\n"
          ]
        }
      ]
    },
    {
      "cell_type": "code",
      "source": [
        "# Q17: Write a Python program to create and write a list of numbers to a file, one number per line\n",
        "\n",
        "\n",
        "numbers = [10, 20, 30, 40, 50]\n",
        "\n",
        "\n",
        "with open(\"numbers.txt\", \"w\") as file:\n",
        "\n",
        "    for number in numbers:\n",
        "        file.write(str(number) + \"\\n\")\n",
        "\n",
        "print(\"Numbers written to 'numbers.txt' successfully.\")\n"
      ],
      "metadata": {
        "colab": {
          "base_uri": "https://localhost:8080/"
        },
        "id": "vMd5TmWe8iIu",
        "outputId": "c2712ced-8ac2-450d-b52b-386fd02902a3"
      },
      "execution_count": null,
      "outputs": [
        {
          "output_type": "stream",
          "name": "stdout",
          "text": [
            "Numbers written to 'numbers.txt' successfully.\n"
          ]
        }
      ]
    },
    {
      "cell_type": "code",
      "source": [
        "# Q18: How would you implement a basic logging setup that logs to a file with rotation after 1MB?\n",
        "\n",
        "import logging\n",
        "from logging.handlers import RotatingFileHandler\n",
        "\n",
        "log_handler = RotatingFileHandler(\n",
        "    filename=\"app.log\",     # Log file name\n",
        "    maxBytes=1 * 1024 * 1024,  # 1 MB = 1 * 1024 * 1024 bytes\n",
        "    backupCount=3            # Keep up to 3 backup log files\n",
        ")\n",
        "\n",
        "logging.basicConfig(\n",
        "    level=logging.INFO,\n",
        "    handlers=[log_handler],\n",
        "    format='%(asctime)s - %(levelname)s - %(message)s'\n",
        ")\n",
        "\n",
        "for i in range(10000):\n",
        "    logging.info(f\"This is log message number {i}\")\n"
      ],
      "metadata": {
        "id": "bgxiDJeO9QFJ"
      },
      "execution_count": null,
      "outputs": []
    },
    {
      "cell_type": "code",
      "source": [
        "# Q19: Write a program that handles both IndexError and KeyError using a try-except block\n",
        "\n",
        "try:\n",
        "    # Trying to access an invalid index in a list\n",
        "    my_list = [1, 2, 3]\n",
        "    print(\"List item:\", my_list[5])  # This will raise IndexError\n",
        "\n",
        "    # Trying to access a non-existent key in a dictionary\n",
        "    my_dict = {\"name\": \"Pranav\", \"age\": 22}\n",
        "    print(\"City:\", my_dict[\"city\"])  # This will raise KeyError\n",
        "\n",
        "except IndexError:\n",
        "    print(\"IndexError: You tried to access an index that doesn't exist in the list.\")\n",
        "\n",
        "except KeyError:\n",
        "    print(\"KeyError: You tried to access a key that doesn't exist in the dictionary.\")\n"
      ],
      "metadata": {
        "colab": {
          "base_uri": "https://localhost:8080/"
        },
        "id": "H051Lg6L9V9T",
        "outputId": "9989e3fb-a737-40dd-92da-a29d7c132ce4"
      },
      "execution_count": null,
      "outputs": [
        {
          "output_type": "stream",
          "name": "stdout",
          "text": [
            "IndexError: You tried to access an index that doesn't exist in the list.\n"
          ]
        }
      ]
    },
    {
      "cell_type": "code",
      "source": [
        "# Q20: How would you open a file and read its contents using a context manager in Python?\n",
        "\n",
        "# Step 1: First, create the file with some content\n",
        "with open(\"example.txt\", \"w\") as f:\n",
        "    f.write(\"This is a sample text inside the file.\\n\")\n",
        "    f.write(\"It has multiple lines.\\n\")\n",
        "    f.write(\"Enjoy reading it!\")\n",
        "\n",
        "# Step 2: Now, open the file using a context manager and read its contents\n",
        "try:\n",
        "    with open(\"example.txt\", \"r\") as file:\n",
        "        contents = file.read()\n",
        "        print(\"File contents:\")\n",
        "        print(contents)\n",
        "\n",
        "except FileNotFoundError:\n",
        "    print(\"The file 'example.txt' was not found.\")\n"
      ],
      "metadata": {
        "colab": {
          "base_uri": "https://localhost:8080/"
        },
        "id": "AEOCtvz19obg",
        "outputId": "3125350f-0c52-438a-d793-bb34f3b80bc7"
      },
      "execution_count": null,
      "outputs": [
        {
          "output_type": "stream",
          "name": "stdout",
          "text": [
            "File contents:\n",
            "This is a sample text inside the file.\n",
            "It has multiple lines.\n",
            "Enjoy reading it!\n"
          ]
        }
      ]
    },
    {
      "cell_type": "code",
      "source": [
        "# Q21: Write a Python program that reads a file and prints the number of occurrences of a specific word\n",
        "\n",
        "with open(\"sample.txt\", \"w\") as file:\n",
        "    file.write(\"Python is powerful. Python is easy to learn. Python is open-source.\\n\")\n",
        "    file.write(\"Many developers love Python because of its simplicity and flexibility.\\n\")\n",
        "\n",
        "word_to_search = \"Python\"\n",
        "count = 0\n",
        "\n",
        "try:\n",
        "    with open(\"sample.txt\", \"r\") as file:\n",
        "        for line in file:\n",
        "            # Count occurrences in a case-sensitive way\n",
        "            count += line.count(word_to_search)\n",
        "\n",
        "    print(f\"The word '{word_to_search}' occurred {count} times in the file.\")\n",
        "\n",
        "except FileNotFoundError:\n",
        "    print(\"The file 'sample.txt' was not found.\")\n"
      ],
      "metadata": {
        "colab": {
          "base_uri": "https://localhost:8080/"
        },
        "id": "OjhYNcVi926x",
        "outputId": "9dbba531-f4e6-4236-9628-a3d66ee20517"
      },
      "execution_count": null,
      "outputs": [
        {
          "output_type": "stream",
          "name": "stdout",
          "text": [
            "The word 'Python' occurred 4 times in the file.\n"
          ]
        }
      ]
    },
    {
      "cell_type": "code",
      "source": [
        "# Q22: How can you check if a file is empty before attempting to read its contents?\n",
        "\n",
        "with open(\"checkfile.txt\", \"w\") as file:\n",
        "    # Leave it empty or write something if you want to test a non-empty file\n",
        "    pass  # This creates an empty file\n",
        "\n",
        "import os\n",
        "\n",
        "file_path = \"checkfile.txt\"\n",
        "\n",
        "try:\n",
        "    if os.path.getsize(file_path) == 0:\n",
        "        print(f\"The file '{file_path}' is empty.\")\n",
        "    else:\n",
        "        with open(file_path, \"r\") as file:\n",
        "            contents = file.read()\n",
        "            print(f\"Contents of '{file_path}':\")\n",
        "            print(contents)\n",
        "\n",
        "except FileNotFoundError:\n",
        "    print(f\"The file '{file_path}' was not found.\")\n"
      ],
      "metadata": {
        "colab": {
          "base_uri": "https://localhost:8080/"
        },
        "id": "SGCGnQAU-BJO",
        "outputId": "a78cb0b2-61ee-4dbf-c9f8-e646fd592e50"
      },
      "execution_count": null,
      "outputs": [
        {
          "output_type": "stream",
          "name": "stdout",
          "text": [
            "The file 'checkfile.txt' is empty.\n"
          ]
        }
      ]
    },
    {
      "cell_type": "code",
      "source": [
        "# Q23: Write a Python program that writes to a log file when an error occurs during file handling\n",
        "\n",
        "import logging\n",
        "\n",
        "logging.basicConfig(\n",
        "    filename='file_handling_error.log',\n",
        "    level=logging.ERROR,\n",
        "    format='%(asctime)s - %(levelname)s - %(message)s'\n",
        ")\n",
        "\n",
        "file_path = \"non_existing_file.txt\"\n",
        "\n",
        "try:\n",
        "    with open(file_path, \"r\") as file:\n",
        "        contents = file.read()\n",
        "        print(contents)\n",
        "\n",
        "except FileNotFoundError as e:\n",
        "    print(f\"Error: The file '{file_path}' was not found.\")\n",
        "    logging.error(f\"FileNotFoundError occurred while trying to open '{file_path}': {e}\")\n",
        "\n",
        "except Exception as e:\n",
        "    print(\"An unexpected error occurred while handling the file.\")\n",
        "    logging.error(f\"Unexpected error: {e}\")\n"
      ],
      "metadata": {
        "colab": {
          "base_uri": "https://localhost:8080/"
        },
        "id": "WjiYbBP8-KZ_",
        "outputId": "d81e176a-4cd6-4db9-95e7-a184b658a42d"
      },
      "execution_count": null,
      "outputs": [
        {
          "output_type": "stream",
          "name": "stderr",
          "text": [
            "ERROR:root:FileNotFoundError occurred while trying to open 'non_existing_file.txt': [Errno 2] No such file or directory: 'non_existing_file.txt'\n"
          ]
        },
        {
          "output_type": "stream",
          "name": "stdout",
          "text": [
            "Error: The file 'non_existing_file.txt' was not found.\n"
          ]
        }
      ]
    }
  ]
}